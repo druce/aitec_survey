{
 "cells": [
  {
   "cell_type": "markdown",
   "metadata": {
    "slideshow": {
     "slide_type": "slide"
    }
   },
   "source": [
    "\n",
    "# Member Survey\n",
    "#### surveys@aitec.org\n",
    "#### April 26, 2017\n"
   ]
  },
  {
   "cell_type": "raw",
   "metadata": {
    "slideshow": {
     "slide_type": "-"
    }
   },
   "source": [
    "<style type=\"text/css\">\n",
    ".input_prompt, .input_area, .output_prompt {\n",
    "    display:none !important;\n",
    "}\n",
    "</style>\n"
   ]
  },
  {
   "cell_type": "code",
   "execution_count": null,
   "metadata": {
    "collapsed": false,
    "slideshow": {
     "slide_type": "-"
    }
   },
   "outputs": [],
   "source": [
    "## import libs\n",
    "import re\n",
    "import numpy as np\n",
    "import pandas as pd\n",
    "\n",
    "# offline plotly\n",
    "# https://plot.ly/python/offline/\n",
    "from plotly.offline import download_plotlyjs, init_notebook_mode, iplot\n",
    "from plotly.graph_objs import *\n",
    "\n",
    "init_notebook_mode()\n",
    "\n",
    "# functions to draw plotly charts in a standard way\n",
    "from aitec_plotly import *\n",
    "# functions to pull data from survey data and call aitec_plotly functions\n",
    "from aitec_convenience import *\n",
    "\n",
    "# include a YouTube on last slide\n",
    "from IPython.display import YouTubeVideo\n"
   ]
  },
  {
   "cell_type": "code",
   "execution_count": null,
   "metadata": {
    "collapsed": false,
    "slideshow": {
     "slide_type": "-"
    }
   },
   "outputs": [],
   "source": [
    "## load CSVs\n",
    "\n",
    "rootdir = \"C:/Users/druce/R/aitec/python\"\n",
    "datadir = \"C:/Users/druce/R/aitec/Data_All_170414/CSV\"\n",
    "csv_prefix = \"Sheet_\"\n",
    "csvfile = \"chartdata.csv\"\n",
    "buysidefile = \"buyside.csv\"\n",
    "countfile = \"count_user_answers.csv\"\n",
    "min_answers=10\n",
    "\n",
    "def do_merge(newfile, dataframe):\n",
    "    tmpframe = pd.read_csv(newfile, sep=\",\")\n",
    "    delcols = [\"CollectorID\",\"StartDate\",\"EndDate\",\"IP Address\",\"Email Address\",\"First Name\",\"LastName\",\"Custom Data\",]\n",
    "    \n",
    "    tmpframe.drop(delcols, inplace=True,axis=1)\n",
    "    tmpframe.set_index(['RespondentID'], drop=True, append=False, inplace=True, verify_integrity=True)\n",
    "    \n",
    "    retframe = pd.concat([chartdata, tmpframe], axis=1, join_axes=[chartdata.index])    \n",
    "    #retframe = chartdata.merge(tmpframe, right_on='RespondentID', left_on='RespondentID', how='inner')\n",
    "    return(retframe)\n",
    "\n",
    "def import_raw():\n",
    "    \"\"\"import raw data and save to chartdata.csv\"\"\"\n",
    "    global chartdata\n",
    "    i=1\n",
    "    nextfile = \"%s/%s%d.csv\" % (datadir, csv_prefix, i)\n",
    "    chartdata = pd.read_csv(nextfile, sep=\",\")\n",
    "    delcols = [\"CollectorID\",\"StartDate\",\"EndDate\",\"IP Address\",\"Email Address\",\"First Name\",\"LastName\",\"Custom Data\",\n",
    "               \"What is the name of your firm? (please confirm) - Open-Ended Response\"]\n",
    "    \n",
    "    chartdata.drop(delcols, inplace=True,axis=1)\n",
    "    chartdata.set_index(['RespondentID'], drop=True, append=False, inplace=True, verify_integrity=True)\n",
    "\n",
    "    print(\"processed CSV %s\" % nextfile)\n",
    "    print(chartdata.shape)\n",
    "    #print(chartdata[[0]])\n",
    "\n",
    "    while True:\n",
    "        i += 1\n",
    "        nextfile = \"%s/%s%d.csv\" % (datadir, csv_prefix, i)\n",
    "        try:\n",
    "            chartdata = do_merge(nextfile, chartdata)\n",
    "            print(\"processed CSV %s\" % nextfile)\n",
    "        except IOError:\n",
    "            # print(\"%s not found\" % nextfile)\n",
    "            break\n",
    "    print chartdata.shape\n",
    "\n",
    "    # insert placeholder columns (did first version with extra columns and need column numbers to line up)\n",
    "    for i in range(6):\n",
    "        chartdata.insert(0, \"%s\" % i, i)    \n",
    "    print(\"Saving %s/%s\" % (datadir, csvfile))\n",
    "    chartdata.to_csv(\"%s/%s\" % (datadir, csvfile))\n",
    "\n",
    "# only do this once to merge/scrub raw SurveyMonkey files\n",
    "#import_raw()\n",
    "\n",
    "# thereafter read chartdata.csv from root directory\n",
    "chartdata = pd.read_csv(\"%s/%s\" % (datadir, csvfile), sep=\",\")\n",
    "\n",
    "# filter rows with < min_answers responses\n",
    "#count how many answers each respondent completed, save to file\n",
    "count_answers = pd.DataFrame(chartdata.count(axis=1))\n",
    "#count_answers.sort_values([0], axis=0, ascending=True, inplace=True)    \n",
    "count_answers[0]=count_answers[0]-min(count_answers[0])\n",
    "count_out = pd.DataFrame(chartdata['RespondentID'])\n",
    "count_out = count_out.assign(Answered=count_answers[0])        \n",
    "count_out.to_csv(\"%s/%s\" % (datadir, countfile))    \n",
    "count_answers = count_answers.loc[count_answers[0] >=min_answers]\n",
    "chartdata = chartdata[chartdata.index.isin(count_answers.index.values)]\n",
    "\n",
    "# filter buy side only\n",
    "question_col = 9\n",
    "question_name = chartdata.columns[question_col]\n",
    "#print (question_name)\n",
    "chartdata = chartdata.loc[chartdata[question_name] == \"Buy Side\"]\n",
    "chartdata.to_csv(\"%s/%s\" % (datadir, buysidefile))\n",
    "#print(len(chartdata))\n",
    "#chartdata"
   ]
  },
  {
   "cell_type": "markdown",
   "metadata": {
    "slideshow": {
     "slide_type": "slide"
    }
   },
   "source": [
    "\n",
    "\n",
    "\n",
    "# General Information"
   ]
  },
  {
   "cell_type": "code",
   "execution_count": null,
   "metadata": {
    "collapsed": true,
    "slideshow": {
     "slide_type": "-"
    }
   },
   "outputs": [],
   "source": [
    "question_col = 7\n",
    "chartdict = twocolumn_barchart(chartdata, question_col, y_label=\"Count\")"
   ]
  },
  {
   "cell_type": "code",
   "execution_count": null,
   "metadata": {
    "collapsed": false,
    "slideshow": {
     "slide_type": "slide"
    }
   },
   "outputs": [],
   "source": [
    "iplot(chartdict, link_text=\"\")"
   ]
  },
  {
   "cell_type": "code",
   "execution_count": null,
   "metadata": {
    "collapsed": false,
    "slideshow": {
     "slide_type": "-"
    }
   },
   "outputs": [],
   "source": [
    "question_col = 9\n",
    "chartdict = onecolumn_barchart(chartdata, question_col, y_label=\"Count\")"
   ]
  },
  {
   "cell_type": "code",
   "execution_count": null,
   "metadata": {
    "collapsed": false,
    "scrolled": true,
    "slideshow": {
     "slide_type": "slide"
    }
   },
   "outputs": [],
   "source": [
    "iplot(chartdict, link_text=\"\")"
   ]
  },
  {
   "cell_type": "code",
   "execution_count": null,
   "metadata": {
    "collapsed": false,
    "slideshow": {
     "slide_type": "-"
    }
   },
   "outputs": [],
   "source": [
    "question_col = 10\n",
    "chartdict = onecolumn_barchart(chartdata, question_col, y_label=\"Count\")"
   ]
  },
  {
   "cell_type": "code",
   "execution_count": null,
   "metadata": {
    "collapsed": false,
    "slideshow": {
     "slide_type": "slide"
    }
   },
   "outputs": [],
   "source": [
    "iplot(chartdict, link_text=\"\")"
   ]
  },
  {
   "cell_type": "code",
   "execution_count": null,
   "metadata": {
    "collapsed": false,
    "slideshow": {
     "slide_type": "-"
    }
   },
   "outputs": [],
   "source": [
    "question_col = 11\n",
    "chartdict = onecolumn_barchart(chartdata, question_col, y_label=\"Count\",\n",
    "                              col_order=[\"<1bn\", \"1-3bn\", \"3-5bn\", \"5-10bn\", \"10bn-20bn\", \">20bn\", \"No Answer\"])\n"
   ]
  },
  {
   "cell_type": "code",
   "execution_count": null,
   "metadata": {
    "collapsed": false,
    "slideshow": {
     "slide_type": "slide"
    }
   },
   "outputs": [],
   "source": [
    "iplot(chartdict, link_text=\"\")"
   ]
  },
  {
   "cell_type": "code",
   "execution_count": null,
   "metadata": {
    "collapsed": false,
    "scrolled": true,
    "slideshow": {
     "slide_type": "-"
    }
   },
   "outputs": [],
   "source": [
    "startcol = 12\n",
    "ncols=14\n",
    "chartdict = multicolumn_barchart(chartdata, startcol, ncols,\n",
    "                                 y_label=\"Count\",\n",
    "                                 othertext=True,\n",
    "                                 title=\"Which investment strategy(s) does your firm employ?\",\n",
    "                                 x_label_size=10, \n",
    "                                 bottom_margin=120                                 \n",
    "                                )\n"
   ]
  },
  {
   "cell_type": "code",
   "execution_count": null,
   "metadata": {
    "collapsed": false,
    "scrolled": true,
    "slideshow": {
     "slide_type": "slide"
    }
   },
   "outputs": [],
   "source": [
    "iplot(chartdict, link_text=\"\")"
   ]
  },
  {
   "cell_type": "code",
   "execution_count": null,
   "metadata": {
    "collapsed": true,
    "slideshow": {
     "slide_type": "-"
    }
   },
   "outputs": [],
   "source": [
    "question_col = 26\n",
    "chartdict = onecolumn_barchart(chartdata, \n",
    "                               26, \n",
    "                               x_label=\"\",\n",
    "                               y_label=\"Count\",\n",
    "                               title=\"If you employ systematic and fundamental strategies,<br />do you segregate the two?\",\n",
    "                              col_order=[\"Yes\",\"No\",\"No Answer\"])\n"
   ]
  },
  {
   "cell_type": "code",
   "execution_count": null,
   "metadata": {
    "collapsed": false,
    "slideshow": {
     "slide_type": "slide"
    }
   },
   "outputs": [],
   "source": [
    "iplot(chartdict, link_text=\"\")"
   ]
  },
  {
   "cell_type": "code",
   "execution_count": null,
   "metadata": {
    "collapsed": false,
    "slideshow": {
     "slide_type": "-"
    }
   },
   "outputs": [],
   "source": [
    "question_cols = [27,28,29]\n",
    "colnames = chartdata.columns[question_cols]\n",
    "question_name = \"If Yes, how do you segregate fundamental and systematic?\"\n",
    "\n",
    "chartframe = chartdata[colnames]\n",
    "colnames = [\"Physical office locations\",\"Organization/teams\",\"IT resources\"]\n",
    "chartframe.columns = colnames\n",
    "chartframe = chartframe.fillna(value=\"No Answer\")\n",
    "\n",
    "#pivot    \n",
    "meltframe = pd.melt(chartframe, value_vars=colnames)\n",
    "pivotframe = meltframe.pivot(columns='value', values='variable')\n",
    "pivotnames = [\"Yes\", \"No\", \"No Answer\"]\n",
    "pivotframe.columns = pivotnames\n",
    "\n",
    "tracedict = {}\n",
    "for colname in colnames:\n",
    "    countSeries = chartframe[colname].value_counts(sort=True, ascending=False,dropna=True)\n",
    "    tracedict[colname] = countSeries\n",
    "\n",
    "# new version use dataframe instead of dict    \n",
    "chartframe = pd.DataFrame(tracedict)\n",
    "# put x-axis on the index, make the columns bars in a group\n",
    "chartframe = chartframe.transpose()\n",
    "# fix order, skip \"No Answer\"\n",
    "chartframe = chartframe[[\"Yes\", \"No\"]]\n",
    "\n",
    "#print(chartframe)\n",
    "chartdict = aitec_bargroup(chartframe, question_name, \"\", \"Count\")"
   ]
  },
  {
   "cell_type": "code",
   "execution_count": null,
   "metadata": {
    "collapsed": false,
    "slideshow": {
     "slide_type": "slide"
    }
   },
   "outputs": [],
   "source": [
    "iplot(chartdict, link_text=\"\")"
   ]
  },
  {
   "cell_type": "code",
   "execution_count": null,
   "metadata": {
    "collapsed": false,
    "slideshow": {
     "slide_type": "-"
    }
   },
   "outputs": [],
   "source": [
    "# grid is complicated to clean up\n",
    "# first get all values in one frame\n",
    "# then create 4 Series, one for None, Low, Medium, High\n",
    "\n",
    "question_cols = range(30,106)\n",
    "colnames = chartdata.columns[question_cols]\n",
    "question_name = \"How much volume does your firm trade of each product type?\"\n",
    "\n",
    "chartframe = chartdata[colnames]\n",
    "# melt multiple columns into 1, i.e. gather/unflatten\n",
    "#colnums = [\"%\" % i for i in question_cols]\n",
    "variables = [mystr[len(\"How much volume does your firm trade of each product type? - \"):] for mystr in colnames]\n",
    "chartframe.columns= variables\n",
    "meltframe = pd.melt(chartframe, value_vars=variables)\n",
    "meltframe = meltframe.dropna(axis=0)\n",
    "\n",
    "# clean up values so they fit on a chart\n",
    "abbrev_dict = {\n",
    "    u'Governments\\xa0Bonds\\xa0'                     : 'Govt bonds',\n",
    "    'Corporate Bonds'                               : 'Corp bonds',\n",
    "    'Bank Debt / Private Debt / Direct Lending'     : 'Direct Debt',\n",
    "    'MBS & CMOs'                                    : 'MBS / CMOs',\n",
    "    'ABS'                                           : 'ABS',\n",
    "    u'Common / Preferred\\xa0Equities'               : 'Stocks',\n",
    "    'Mutual Funds & ETFs'                           : 'Mut Fund/ETF',\n",
    "    'MLPs'                                          : 'MLPs',\n",
    "    'Real Estate & REITS'                           : 'RE/REITs',\n",
    "    'Private Equity'                                : 'PE',\n",
    "    'Equity swaps'                                  : 'Equity Swaps',\n",
    "    'Commodity swaps & derivatives'                 : 'Commod Deriv',\n",
    "    'Futures'                                       : 'Futures',\n",
    "    'Credit swaps'                                  : 'Credit Swaps',\n",
    "    'Currency swaps'                                : 'FX Swaps',\n",
    "    'Rate swaps'                                    : 'Rate Swaps',\n",
    "    'Warrants & Options'                            : 'Options',\n",
    "    'F/X currency'                                  : 'FX',\n",
    "    'Other'                                         : 'Other',\n",
    " } \n",
    "\n",
    "# count occurrences of each response\n",
    "countseries = meltframe['variable'].value_counts(sort=True, ascending=False,dropna=True)\n",
    "countframe = pd.DataFrame(countseries)\n",
    "\n",
    "# split the name ie \"product - high/med/low/none'\n",
    "countframe[\"product\"]=countframe.index.format()\n",
    "countframe[\"product\"]=[mystr[0:mystr.find(\" - \")] for mystr in countframe[\"product\"]]\n",
    "countframe[\"volume\"]=countframe.index.format()\n",
    "countframe[\"volume\"]=[mystr[mystr.find(\" - \")+3:] for mystr in countframe[\"volume\"]]\n",
    "\n",
    "countframe.loc[countframe[\"volume\"] == \"Low (Occasional trades)\", \"volume\"] = \"Low\"\n",
    "countframe.loc[countframe[\"volume\"] == \"Medium (Active trading)\", \"volume\"] = \"Medium\"\n",
    "countframe.loc[countframe[\"volume\"] == \"High (Primary trading focus)\", \"volume\"] = \"High\"\n",
    "countframe['index'] = range(countframe.shape[0])\n",
    "countframe = countframe.set_index(keys='index')\n",
    "countframe.columns = ['count', 'product', 'volume']\n",
    "\n",
    "for source, dest in abbrev_dict.items():\n",
    "    # stupidly inefficient\n",
    "    countframe = countframe.replace(to_replace=source, value=dest)\n",
    "\n",
    "   \n",
    "#print(list(countframe[\"product\"]))\n",
    "#print(countframe)\n",
    "# split into 4 dataframes, get products as dicts\n",
    "none_frame = countframe.loc[countframe[\"volume\"] == \"None\"]\n",
    "none_frame = none_frame.set_index(keys='product')\n",
    "none_frame = pd.DataFrame(none_frame[\"count\"])\n",
    "none_frame.columns = ['None']\n",
    "low_frame = countframe.loc[countframe[\"volume\"] == \"Low\"]\n",
    "low_frame = low_frame.set_index(keys='product')\n",
    "low_frame = pd.DataFrame(low_frame[\"count\"])\n",
    "low_frame.columns = ['Low']\n",
    "medium_frame = countframe.loc[countframe[\"volume\"] == \"Medium\"]\n",
    "medium_frame = medium_frame.set_index(keys='product')\n",
    "medium_frame = pd.DataFrame(medium_frame[\"count\"])\n",
    "medium_frame.columns = ['Medium']\n",
    "high_frame = countframe.loc[countframe[\"volume\"] == \"High\"]\n",
    "high_frame = high_frame.set_index(keys='product')\n",
    "high_frame = pd.DataFrame(high_frame[\"count\"])\n",
    "high_frame.columns = ['High']\n",
    "\n",
    "all_frame = high_frame\n",
    "all_frame = pd.concat([all_frame, medium_frame], axis=1, join='outer')    \n",
    "all_frame = pd.concat([all_frame, low_frame], axis=1, join='outer')    \n",
    "all_frame = all_frame.fillna(value=0)\n",
    "\n",
    "total_frame=pd.DataFrame(all_frame[\"High\"] + all_frame[\"Medium\"] + all_frame[\"Low\"])\n",
    "total_frame = total_frame.sort_values(0, ascending=False)\n",
    "#use this order\n",
    "col_order = total_frame.index.values\n",
    "order_dict = dict(zip(col_order, range(len(col_order))))\n",
    "all_frame[\"order\"] = [order_dict[v] for v in all_frame.index.values]\n",
    "all_frame = all_frame.sort_values(\"order\")\n",
    "del all_frame[\"order\"]\n",
    "\n",
    "chartdict = aitec_barstack(all_frame, question_name, \"\", \"Count\")"
   ]
  },
  {
   "cell_type": "code",
   "execution_count": null,
   "metadata": {
    "collapsed": false,
    "slideshow": {
     "slide_type": "slide"
    }
   },
   "outputs": [],
   "source": [
    "iplot(chartdict, link_text=\"\")"
   ]
  },
  {
   "cell_type": "code",
   "execution_count": null,
   "metadata": {
    "collapsed": false,
    "slideshow": {
     "slide_type": "-"
    }
   },
   "outputs": [],
   "source": [
    "chartdict = multicolumn_barchart(chartdata, \n",
    "                                 107, \n",
    "                                 7, \n",
    "                                 y_label=\"Count\", \n",
    "                                 title=\"In addition to hedge funds, do you manage…?\")"
   ]
  },
  {
   "cell_type": "code",
   "execution_count": null,
   "metadata": {
    "collapsed": false,
    "slideshow": {
     "slide_type": "slide"
    }
   },
   "outputs": [],
   "source": [
    "iplot(chartdict, link_text=\"\")"
   ]
  },
  {
   "cell_type": "code",
   "execution_count": null,
   "metadata": {
    "collapsed": true,
    "slideshow": {
     "slide_type": "-"
    }
   },
   "outputs": [],
   "source": [
    "question_col = 114\n",
    "chartdict = onecolumn_barchart(chartdata, \n",
    "                               question_col, \n",
    "                               x_label=\"\",\n",
    "                               y_label=\"Count\",\n",
    "                               col_order = ['<10', '11-30', '31-50', '51-100', '101-200', '201-300', '301-500', '>500', 'No Answer',]\n",
    "                               #title = \"If Yes, how do you segregate fundamental and systematic? <br />IT resources\"\n",
    "                              )\n"
   ]
  },
  {
   "cell_type": "code",
   "execution_count": null,
   "metadata": {
    "collapsed": false,
    "slideshow": {
     "slide_type": "slide"
    }
   },
   "outputs": [],
   "source": [
    "iplot(chartdict, link_text=\"\")"
   ]
  },
  {
   "cell_type": "code",
   "execution_count": null,
   "metadata": {
    "collapsed": false,
    "slideshow": {
     "slide_type": "-"
    }
   },
   "outputs": [],
   "source": [
    "question_cols = [115]\n",
    "colnames = chartdata.columns[question_cols]\n",
    "question_name = \"What percentage of your firm's employees are in<br />the front office?\"\n",
    "x_label = \"Percentage\"\n",
    "y_label = \"Count\"\n",
    "val_list = chartdata[colnames[0]].tolist()\n",
    "\n",
    "# jumps inexplicably from 8 to 14\n",
    "chartdict = aitec_histogram(val_list, question_name, x_label, y_label, nbinsx=10)"
   ]
  },
  {
   "cell_type": "code",
   "execution_count": null,
   "metadata": {
    "collapsed": false,
    "slideshow": {
     "slide_type": "slide"
    }
   },
   "outputs": [],
   "source": [
    "iplot(chartdict, link_text=\"\")"
   ]
  },
  {
   "cell_type": "code",
   "execution_count": null,
   "metadata": {
    "collapsed": false,
    "slideshow": {
     "slide_type": "-"
    }
   },
   "outputs": [],
   "source": [
    "question_cols = [117,118,119]\n",
    "colnames = chartdata.columns[question_cols]\n",
    "question_name = \"In 2017, do you expect headcount to rise or fall?\"\n",
    "\n",
    "chartframe = chartdata[colnames]\n",
    "colnames = [\"Front Office\",\"Back Office\",\"Overall\"]\n",
    "chartframe.columns = colnames\n",
    "\n",
    "chartframe = chartframe.fillna(value=\"No Answer\")\n",
    "\n",
    "#pivot    \n",
    "meltframe = pd.melt(chartframe, value_vars=colnames)\n",
    "pivotframe = meltframe.pivot(columns='value', values='variable')\n",
    "pivotnames = [\"Rise\", \"About the Same\", \"Fall\", \"No Answer\"]\n",
    "pivotframe.columns = pivotnames\n",
    "\n",
    "tracedict = {}\n",
    "for colname in colnames:\n",
    "    countSeries = chartframe[colname].value_counts(sort=True, ascending=False,dropna=True)\n",
    "    tracedict[colname] = countSeries\n",
    "\n",
    "# new version use dataframe instead of dict    \n",
    "chartframe = pd.DataFrame(tracedict)\n",
    "# put x-axis on the index, make the columns bars in a group\n",
    "chartframe = chartframe.transpose()\n",
    "\n",
    "chartdict = aitec_bargroup(chartframe, question_name, \"\", \"Count\")\n"
   ]
  },
  {
   "cell_type": "code",
   "execution_count": null,
   "metadata": {
    "collapsed": false,
    "slideshow": {
     "slide_type": "slide"
    }
   },
   "outputs": [],
   "source": [
    "iplot(chartdict, link_text=\"\")"
   ]
  },
  {
   "cell_type": "code",
   "execution_count": null,
   "metadata": {
    "collapsed": true,
    "slideshow": {
     "slide_type": "-"
    }
   },
   "outputs": [],
   "source": [
    "question_cols = [120]\n",
    "colnames = chartdata.columns[question_cols]\n",
    "question_name = \"What percentage of the firm's total full-time staff<br />is dedicated to the IT team?\"\n",
    "x_label = \"Percentage\"\n",
    "y_label = \"Count\"\n",
    "\n",
    "chartframe = chartdata[colnames]\n",
    "chartframe = chartframe.replace(to_replace=\".5\", value=\"0.5\")\n",
    "chartframe = chartframe.replace(to_replace=\"3% (1 person)\", value=\"3\")\n",
    "fixup = []\n",
    "for z in chartframe[colnames[0]]:\n",
    "    #print(z)\n",
    "    if isinstance(z, float):\n",
    "        fixup.append(z)\n",
    "    elif isinstance(z, str):\n",
    "        z = z.strip()\n",
    "        z = re.sub(\"^\\D*\", \"\", z)\n",
    "        z = re.sub(\"\\D*$\", \"\", z)\n",
    "        fixup.append(float(z))\n",
    "    #print(fixup[-1])\n",
    "\n",
    "chartdict = aitec_histogram(fixup, question_name, x_label, y_label)\n",
    "\n",
    "# in future ensure proper validation for all free from numeric fields \n"
   ]
  },
  {
   "cell_type": "code",
   "execution_count": null,
   "metadata": {
    "collapsed": false,
    "slideshow": {
     "slide_type": "slide"
    }
   },
   "outputs": [],
   "source": [
    "iplot(chartdict, link_text=\"\")"
   ]
  },
  {
   "cell_type": "code",
   "execution_count": null,
   "metadata": {
    "collapsed": true,
    "slideshow": {
     "slide_type": "-"
    }
   },
   "outputs": [],
   "source": [
    "tableframe = pd.DataFrame(fixup).describe()\n",
    "tableframe.columns=['value']\n",
    "tableframe['value'] = tableframe['value'].apply('{:,.1f}'.format)"
   ]
  },
  {
   "cell_type": "code",
   "execution_count": null,
   "metadata": {
    "collapsed": false,
    "slideshow": {
     "slide_type": "slide"
    }
   },
   "outputs": [],
   "source": [
    "tableframe"
   ]
  },
  {
   "cell_type": "code",
   "execution_count": null,
   "metadata": {
    "collapsed": true,
    "slideshow": {
     "slide_type": "-"
    }
   },
   "outputs": [],
   "source": [
    "question_cols = range(121, 135)\n",
    "colnames = chartdata.columns[question_cols]\n",
    "question_name = \"What percentage of your IT employees <br />do you have serving each role?\"\n",
    "y_label = \"Percentage\"\n",
    "x_label = \"\"\n",
    "\n",
    "chartframe = chartdata[colnames]\n",
    "choplen = len(\"What percentage of your IT EMPLOYEES do you have serving each role? The total must add up to 100. -  \")\n",
    "\n",
    "colnames = [mystr[choplen:] for mystr in colnames]\n",
    "#print(colnames)\n",
    "#cleanup for chart\n",
    "colnames = ['Help Desk', \n",
    "            'App Support', \n",
    "            'Network Support', \n",
    "            'Server Support', \n",
    "            'Security', \n",
    "            'DBA', \n",
    "            'Development', \n",
    "            'QA', \n",
    "            'Proj Management', \n",
    "            'Business Analysis', \n",
    "            'Market Data', \n",
    "            'Risk', \n",
    "            'Quant', \n",
    "            'Other']\n",
    "chartframe.columns = colnames\n",
    "\n",
    "# remove no-answer rows, pad 0s\n",
    "chartframe.columns = colnames\n",
    "chartframe = chartframe.dropna(how='all')\n",
    "chartframe = chartframe.fillna(value=0)\n",
    "\n",
    "chartdict = aitec_boxplot(chartframe, question_name, x_label, y_label)"
   ]
  },
  {
   "cell_type": "code",
   "execution_count": null,
   "metadata": {
    "collapsed": false,
    "slideshow": {
     "slide_type": "slide"
    }
   },
   "outputs": [],
   "source": [
    "iplot(chartdict, link_text=\"\")"
   ]
  },
  {
   "cell_type": "code",
   "execution_count": null,
   "metadata": {
    "collapsed": true,
    "slideshow": {
     "slide_type": "-"
    }
   },
   "outputs": [],
   "source": [
    "# an example of a table slide\n",
    "# but not sure this is the best way\n",
    "# maybe style via the ipython / pandas html render hooks\n",
    "# or via css\n",
    "tableframe = chartframe.describe().transpose()\n",
    "# map to formatted strings\n",
    "format_dict = {'count': '{:,.0f}',\n",
    "               'mean': '{:,.1f}',\n",
    "               'std': '{:,.1f}',\n",
    "               'min': '{:,.0f}',\n",
    "               '25%': '{:,.0f}',\n",
    "               '50%': '{:,.0f}',\n",
    "               '75%': '{:,.0f}',\n",
    "               'max': '{:,.0f}',\n",
    "              }\n",
    "\n",
    "for key, value in format_dict.items():\n",
    "    tableframe[key] = tableframe[key].apply(value.format)\n"
   ]
  },
  {
   "cell_type": "code",
   "execution_count": null,
   "metadata": {
    "collapsed": false,
    "slideshow": {
     "slide_type": "slide"
    }
   },
   "outputs": [],
   "source": [
    "tableframe"
   ]
  },
  {
   "cell_type": "code",
   "execution_count": null,
   "metadata": {
    "collapsed": false,
    "slideshow": {
     "slide_type": "notes"
    }
   },
   "outputs": [],
   "source": [
    "question_cols = [135]\n",
    "colnames = chartdata.columns[question_cols]\n",
    "question_name = \"What percentage of the total full-time IT team<br />is composed of consultants?\"\n",
    "x_label = \"\"\n",
    "y_label = \"Count\"\n",
    "chartframe = chartdata[colnames]\n",
    "#print(chartframe)\n",
    "\n",
    "# in future ensure proper validation for all free from numeric fields \n",
    "\n",
    "fixup = []\n",
    "for z in chartframe[colnames[0]]:\n",
    "    if isinstance(z, float):\n",
    "        fixup.append(z)\n",
    "    elif isinstance(z, str):\n",
    "        z = z.strip()\n",
    "        z = re.sub(\"^\\D*\", \"\", z)\n",
    "        z = re.sub(\"\\D*$\", \"\", z)\n",
    "        fixup.append(float(z))\n",
    "\n",
    "# so largest bin max is 100        \n",
    "fixup = [99.99 if x == 100.0 else x for x in fixup]        \n",
    "# print(max(fixup)        )\n",
    "chartdict = aitec_histogram(fixup, question_name, x_label, y_label)"
   ]
  },
  {
   "cell_type": "code",
   "execution_count": null,
   "metadata": {
    "collapsed": false,
    "slideshow": {
     "slide_type": "slide"
    }
   },
   "outputs": [],
   "source": [
    "iplot(chartdict, link_text=\"\")"
   ]
  },
  {
   "cell_type": "code",
   "execution_count": null,
   "metadata": {
    "collapsed": true,
    "slideshow": {
     "slide_type": "-"
    }
   },
   "outputs": [],
   "source": [
    "tableframe = pd.DataFrame(fixup).describe()\n",
    "tableframe.columns=['value']\n",
    "tableframe['value'] = tableframe['value'].apply('{:,.1f}'.format)"
   ]
  },
  {
   "cell_type": "code",
   "execution_count": null,
   "metadata": {
    "collapsed": false,
    "slideshow": {
     "slide_type": "slide"
    }
   },
   "outputs": [],
   "source": [
    "tableframe"
   ]
  },
  {
   "cell_type": "code",
   "execution_count": null,
   "metadata": {
    "collapsed": false,
    "slideshow": {
     "slide_type": "-"
    }
   },
   "outputs": [],
   "source": [
    "question_cols = range(136, 150)\n",
    "colnames = chartdata.columns[question_cols]\n",
    "question_name = \"What percentage of your IT consultants <br />do you have serving each role?\"\n",
    "y_label = \"Percentage\"\n",
    "x_label = \"\"\n",
    "\n",
    "chartframe = chartdata[colnames]\n",
    "choplen = len(\"What percentage of your full-time IT consultants do you have serving each role? The total must add up to 100. Â Note:Â Include contractors working on projects who would equal that of a full time employee for a year (e.g. a firm may have a contract developer working 2000 hours on a project during the next 12 months that would equal 1 IT consultant -)\")\n",
    "\n",
    "colnames = [mystr[choplen:] for mystr in colnames]\n",
    "#print(colnames)\n",
    "#cleanup for chart\n",
    "colnames = ['Help Desk', \n",
    "            'App Support', \n",
    "            'Network Support', \n",
    "            'Server Support', \n",
    "            'Security', \n",
    "            'DBA', \n",
    "            'Development', \n",
    "            'QA', \n",
    "            'Proj Management', \n",
    "            'Business Analysis', \n",
    "            'Market Data', \n",
    "            'Risk', \n",
    "            'Quant', \n",
    "            'Other']\n",
    "# remove no-answer rows, pad 0s\n",
    "chartframe.columns = colnames\n",
    "chartframe = chartframe.dropna(how='all')\n",
    "chartframe = chartframe.fillna(value=0)\n",
    "\n",
    "chartdict = aitec_boxplot(chartframe, question_name, x_label, y_label)\n",
    "#chartframe"
   ]
  },
  {
   "cell_type": "code",
   "execution_count": null,
   "metadata": {
    "collapsed": false,
    "slideshow": {
     "slide_type": "slide"
    }
   },
   "outputs": [],
   "source": [
    "iplot(chartdict, link_text=\"\")"
   ]
  },
  {
   "cell_type": "code",
   "execution_count": null,
   "metadata": {
    "collapsed": false,
    "slideshow": {
     "slide_type": "-"
    }
   },
   "outputs": [],
   "source": [
    "from IPython.display import HTML, display\n",
    "# table slide with HTML\n",
    "# still not sure this is the best way\n",
    "tableframe = chartframe.describe().transpose()\n",
    "# map to formatted strings\n",
    "format_dict = {'count': '{:,.0f}',\n",
    "               'mean': '{:,.1f}',\n",
    "               'std': '{:,.1f}',\n",
    "               'min': '{:,.0f}',\n",
    "               '25%': '{:,.0f}',\n",
    "               '50%': '{:,.0f}',\n",
    "               '75%': '{:,.0f}',\n",
    "               'max': '{:,.0f}',\n",
    "              }\n",
    "\n",
    "for key, value in format_dict.items():\n",
    "    tableframe[key] = tableframe[key].apply(value.format)\n",
    "\n",
    "clabels = tableframe.columns.values\n",
    "rlabels = tableframe.index.values\n",
    "\n",
    "htmlstr = '<table><tr><td></td><td style=\"font-weight: bold; text-align: right\">count</td><td style=\"font-weight: bold; text-align: right\">mean</td><td style=\"font-weight: bold; text-align: right\">std</td><td style=\"font-weight: bold; text-align: right\">min</td><td style=\"font-weight: bold; text-align: right\">25%</td><td style=\"font-weight: bold; text-align: right\">50%</td><td style=\"font-weight: bold; text-align: right\">75%</td><td style=\"font-weight: bold; text-align: right\">max</td></tr><tr>{}</tr></table>'.format(\n",
    "        '</tr><tr>'.join('<td>{}</td>'.format('</td><td style=\"text-align: right\">'.join(['<span style=\"font-weight: bold\">%s</span>' % row] + list(tableframe.loc[row,col] for col in clabels) )) for row in rlabels)\n",
    "        )\n"
   ]
  },
  {
   "cell_type": "code",
   "execution_count": null,
   "metadata": {
    "collapsed": false,
    "slideshow": {
     "slide_type": "slide"
    }
   },
   "outputs": [],
   "source": [
    "display(HTML(htmlstr))"
   ]
  },
  {
   "cell_type": "code",
   "execution_count": null,
   "metadata": {
    "collapsed": true,
    "slideshow": {
     "slide_type": "-"
    }
   },
   "outputs": [],
   "source": [
    "chartdict = onecolumn_barchart(chartdata, \n",
    "                               150, \n",
    "                               x_label=\"\",\n",
    "                               y_label=\"Count\",\n",
    "                               title=None,\n",
    "                              col_order=[\"Yes\",\"No\",\"No Answer\"])\n"
   ]
  },
  {
   "cell_type": "code",
   "execution_count": null,
   "metadata": {
    "collapsed": false,
    "slideshow": {
     "slide_type": "slide"
    }
   },
   "outputs": [],
   "source": [
    "iplot(chartdict, link_text=\"\")"
   ]
  },
  {
   "cell_type": "code",
   "execution_count": null,
   "metadata": {
    "collapsed": true,
    "slideshow": {
     "slide_type": "-"
    }
   },
   "outputs": [],
   "source": [
    "chartdict = onecolumn_barchart(chartdata, \n",
    "                               151, \n",
    "                               x_label=\"\",\n",
    "                               y_label=\"Count\",\n",
    "                               title=None,\n",
    "                              col_order=[\"Yes\",\"No\",\"No Answer\"])\n"
   ]
  },
  {
   "cell_type": "code",
   "execution_count": null,
   "metadata": {
    "collapsed": false,
    "slideshow": {
     "slide_type": "slide"
    }
   },
   "outputs": [],
   "source": [
    "iplot(chartdict, link_text=\"\")"
   ]
  },
  {
   "cell_type": "code",
   "execution_count": null,
   "metadata": {
    "collapsed": true,
    "slideshow": {
     "slide_type": "-"
    }
   },
   "outputs": [],
   "source": [
    "chartdict = onecolumn_barchart(chartdata, \n",
    "                               152, \n",
    "                               x_label=\"\",\n",
    "                               y_label=\"Count\",\n",
    "                               title=None,\n",
    "                              col_order=[\"Yes\",\"No\",\"No Answer\"])\n"
   ]
  },
  {
   "cell_type": "code",
   "execution_count": null,
   "metadata": {
    "collapsed": false,
    "slideshow": {
     "slide_type": "slide"
    }
   },
   "outputs": [],
   "source": [
    "iplot(chartdict, link_text=\"\")"
   ]
  },
  {
   "cell_type": "code",
   "execution_count": null,
   "metadata": {
    "collapsed": true,
    "slideshow": {
     "slide_type": "-"
    }
   },
   "outputs": [],
   "source": [
    "chartdict = onecolumn_barchart(chartdata, \n",
    "                               153, \n",
    "                               x_label=\"\",\n",
    "                               y_label=\"Count\",\n",
    "                               title=None,\n",
    "                              col_order=[\"Yes\",\"No\",\"No Answer\"])\n"
   ]
  },
  {
   "cell_type": "code",
   "execution_count": null,
   "metadata": {
    "collapsed": false,
    "slideshow": {
     "slide_type": "slide"
    }
   },
   "outputs": [],
   "source": [
    "iplot(chartdict, link_text=\"\")"
   ]
  },
  {
   "cell_type": "code",
   "execution_count": null,
   "metadata": {
    "collapsed": true,
    "slideshow": {
     "slide_type": "-"
    }
   },
   "outputs": [],
   "source": [
    "chartdict = onecolumn_barchart(chartdata, \n",
    "                               154, \n",
    "                               x_label=\"\",\n",
    "                               y_label=\"Count\",\n",
    "                               title=None,\n",
    "                              col_order=[\"Yes\",\"No\",\"No Answer\"])\n"
   ]
  },
  {
   "cell_type": "code",
   "execution_count": null,
   "metadata": {
    "collapsed": false,
    "slideshow": {
     "slide_type": "slide"
    }
   },
   "outputs": [],
   "source": [
    "iplot(chartdict, link_text=\"\")"
   ]
  },
  {
   "cell_type": "code",
   "execution_count": null,
   "metadata": {
    "collapsed": true,
    "slideshow": {
     "slide_type": "-"
    }
   },
   "outputs": [],
   "source": [
    "chartdict = onecolumn_barchart(chartdata, \n",
    "                               155, \n",
    "                               x_label=\"\",\n",
    "                               y_label=\"Count\",\n",
    "                               col_order=[\"Yes\",\"No\",\"No Answer\"],\n",
    "                               title = \"Do you apply chargebacks or pass throughs<br />for your development team?\")\n",
    "\n"
   ]
  },
  {
   "cell_type": "code",
   "execution_count": null,
   "metadata": {
    "collapsed": false,
    "slideshow": {
     "slide_type": "slide"
    }
   },
   "outputs": [],
   "source": [
    "\n",
    "\n",
    "iplot(chartdict, link_text=\"\")"
   ]
  },
  {
   "cell_type": "code",
   "execution_count": null,
   "metadata": {
    "collapsed": true,
    "slideshow": {
     "slide_type": "-"
    }
   },
   "outputs": [],
   "source": [
    "chartdict = onecolumn_barchart(chartdata, \n",
    "                               156, \n",
    "                               x_label=\"\",\n",
    "                               y_label=\"Count\",\n",
    "                               col_order=[\"Yes\",\"No\",\"No Answer\"],\n",
    "                               title = \"Do you apply chargebacks or pass throughs<br />for your infrastructure / support teams?\")\n",
    "\n"
   ]
  },
  {
   "cell_type": "code",
   "execution_count": null,
   "metadata": {
    "collapsed": false,
    "slideshow": {
     "slide_type": "slide"
    }
   },
   "outputs": [],
   "source": [
    "iplot(chartdict, link_text=\"\")"
   ]
  },
  {
   "cell_type": "code",
   "execution_count": null,
   "metadata": {
    "collapsed": true,
    "slideshow": {
     "slide_type": "-"
    }
   },
   "outputs": [],
   "source": [
    "chartdict = onecolumn_barchart(chartdata, \n",
    "                               157, \n",
    "                               x_label=\"\",\n",
    "                               y_label=\"Count\",\n",
    "#                               col_order=[\"Yes\",\"No\",\"No Answer\"],\n",
    "                               title = \"Do you divide support into separate help desk groups?\")\n",
    "\n"
   ]
  },
  {
   "cell_type": "code",
   "execution_count": null,
   "metadata": {
    "collapsed": false,
    "slideshow": {
     "slide_type": "slide"
    }
   },
   "outputs": [],
   "source": [
    "iplot(chartdict, link_text=\"\")"
   ]
  },
  {
   "cell_type": "code",
   "execution_count": null,
   "metadata": {
    "collapsed": true,
    "slideshow": {
     "slide_type": "-"
    }
   },
   "outputs": [],
   "source": [
    "question_cols = range(158, 169)\n",
    "colnames = chartdata.columns[question_cols]\n",
    "question_name = \"CTOs and CIOs - How do you spend your time?\"\n",
    "y_label = \"Percentage\"\n",
    "#x_label = \"Activity\"\n",
    "x_label = \"\"\n",
    "\n",
    "chartframe = chartdata[colnames]\n",
    "choplen = len(\"CTOs and CIOs - How do you spend your time? (must add up to 100%) - \")\n",
    "\n",
    "colnames = [mystr[choplen:] for mystr in colnames]\n",
    "#print(colnames)\n",
    "#cleanup for chart\n",
    "colnames = ['Strategy', \n",
    "            'Meetings', \n",
    "            'Infra mgmt', \n",
    "            'Dev mgmt', \n",
    "            'Vendor mgmt', \n",
    "            'Security', \n",
    "            'Hands-on infra', \n",
    "            'Hands-on dev', \n",
    "            'Hands-on security', \n",
    "            'Org/Team dev', \n",
    "            'Other']\n",
    "\n",
    "chartframe.columns = colnames\n",
    "# remove no-answer rows, pad 0s\n",
    "chartframe.columns = colnames\n",
    "chartframe = chartframe.dropna(how='all')\n",
    "chartframe = chartframe.fillna(value=0)\n",
    "chartdict = aitec_boxplot(chartframe, question_name, x_label, y_label)"
   ]
  },
  {
   "cell_type": "code",
   "execution_count": null,
   "metadata": {
    "collapsed": false,
    "slideshow": {
     "slide_type": "slide"
    }
   },
   "outputs": [],
   "source": [
    "iplot(chartdict, link_text=\"\")"
   ]
  },
  {
   "cell_type": "code",
   "execution_count": null,
   "metadata": {
    "collapsed": false,
    "slideshow": {
     "slide_type": "-"
    }
   },
   "outputs": [],
   "source": [
    "tableframe = chartframe.describe().transpose()\n",
    "# map to formatted strings\n",
    "format_dict = {'count': '{:,.0f}',\n",
    "               'mean': '{:,.1f}',\n",
    "               'std': '{:,.1f}',\n",
    "               'min': '{:,.0f}',\n",
    "               '25%': '{:,.0f}',\n",
    "               '50%': '{:,.0f}',\n",
    "               '75%': '{:,.0f}',\n",
    "               'max': '{:,.0f}',\n",
    "              }\n",
    "\n",
    "for key, value in format_dict.items():\n",
    "    tableframe[key] = tableframe[key].apply(value.format)\n"
   ]
  },
  {
   "cell_type": "code",
   "execution_count": null,
   "metadata": {
    "collapsed": false,
    "slideshow": {
     "slide_type": "slide"
    }
   },
   "outputs": [],
   "source": [
    "tableframe"
   ]
  },
  {
   "cell_type": "code",
   "execution_count": null,
   "metadata": {
    "collapsed": true,
    "slideshow": {
     "slide_type": "-"
    }
   },
   "outputs": [],
   "source": [
    "question_cols = range(169, 182)\n",
    "colnames = chartdata.columns[question_cols]\n",
    "question_name = \"What's your biggest area of focus for 2017?\"\n",
    "y_label = \"Percentage\"\n",
    "#x_label = \"Activity\"\n",
    "x_label = \"\"\n",
    "\n",
    "chartframe = chartdata[colnames]\n",
    "choplen = len(\"What's your biggest area of focus for 2017? (must add up to 100%) -\")\n",
    "\n",
    "colnames = [mystr[choplen:] for mystr in colnames]\n",
    "#print(colnames)\n",
    "#cleanup for chart\n",
    "colnames = ['Dev. projects', 'Storage', 'Cloud', 'Cybersecurity', 'Facilities', 'Datacenter', 'A/V', 'Telecom', 'Data Mgmt', 'Mobile', 'Innovation', 'Discret. projects', 'Other']\n",
    "\n",
    "chartframe.columns = colnames\n",
    "# remove no-answer rows, pad 0s\n",
    "chartframe.columns = colnames\n",
    "chartframe = chartframe.dropna(how='all')\n",
    "chartframe = chartframe.fillna(value=0)\n",
    "chartdict = aitec_boxplot(chartframe, question_name, x_label, y_label)"
   ]
  },
  {
   "cell_type": "code",
   "execution_count": null,
   "metadata": {
    "collapsed": false,
    "slideshow": {
     "slide_type": "slide"
    }
   },
   "outputs": [],
   "source": [
    "iplot(chartdict, link_text=\"\")"
   ]
  },
  {
   "cell_type": "code",
   "execution_count": null,
   "metadata": {
    "collapsed": false,
    "slideshow": {
     "slide_type": "-"
    }
   },
   "outputs": [],
   "source": [
    "question_cols = range(182, 187)\n",
    "question_name = \"What technology are you most excited about?\"\n",
    "\n",
    "chartdict = multicolumn_barchart(chartdata,\n",
    "                                 182, \n",
    "                                 5, \n",
    "                                 y_label=\"Count\",\n",
    "                                 othertext = False,\n",
    "                                )"
   ]
  },
  {
   "cell_type": "code",
   "execution_count": null,
   "metadata": {
    "collapsed": false,
    "slideshow": {
     "slide_type": "slide"
    }
   },
   "outputs": [],
   "source": [
    "iplot(chartdict, link_text=\"\")"
   ]
  },
  {
   "cell_type": "markdown",
   "metadata": {
    "slideshow": {
     "slide_type": "slide"
    }
   },
   "source": [
    " \n",
    "\n",
    "# Front Office Solutions"
   ]
  },
  {
   "cell_type": "code",
   "execution_count": null,
   "metadata": {
    "collapsed": false,
    "slideshow": {
     "slide_type": "-"
    }
   },
   "outputs": [],
   "source": [
    "chartdata.replace(to_replace=\"paladyne\", value=\"Paladyne\", inplace=True)\n",
    "chartdict = multicolumn_barchart(chartdata,\n",
    "                                 360, \n",
    "                                 15, \n",
    "                                 y_label=\"Count\",\n",
    "                                 x_label_size=11, bottom_margin=120\n",
    "                                 )\n"
   ]
  },
  {
   "cell_type": "code",
   "execution_count": null,
   "metadata": {
    "collapsed": false,
    "slideshow": {
     "slide_type": "slide"
    }
   },
   "outputs": [],
   "source": [
    "iplot(chartdict, link_text=\"\")"
   ]
  },
  {
   "cell_type": "code",
   "execution_count": null,
   "metadata": {
    "collapsed": false,
    "slideshow": {
     "slide_type": "-"
    }
   },
   "outputs": [],
   "source": [
    "chartdata.replace(to_replace=\"ss&c\", value=\"SS&C\", inplace=True)\n",
    "chartdict = multicolumn_barchart(chartdata,\n",
    "                                 375, \n",
    "                                 12, \n",
    "                                 y_label=\"Count\",\n",
    "                                 \n",
    "                                 )\n"
   ]
  },
  {
   "cell_type": "code",
   "execution_count": null,
   "metadata": {
    "collapsed": false,
    "slideshow": {
     "slide_type": "slide"
    }
   },
   "outputs": [],
   "source": [
    "iplot(chartdict, link_text=\"\")"
   ]
  },
  {
   "cell_type": "code",
   "execution_count": null,
   "metadata": {
    "collapsed": false,
    "slideshow": {
     "slide_type": "-"
    }
   },
   "outputs": [],
   "source": [
    "startcol = 387\n",
    "ncols = 19\n",
    "chartdict = multicolumn_barchart(chartdata,\n",
    "                                 startcol, \n",
    "                                 ncols, \n",
    "                                 y_label=\"Count\",\n",
    "                                 \n",
    "                                 )\n",
    "\n"
   ]
  },
  {
   "cell_type": "code",
   "execution_count": null,
   "metadata": {
    "collapsed": false,
    "slideshow": {
     "slide_type": "slide"
    }
   },
   "outputs": [],
   "source": [
    "iplot(chartdict, link_text=\"\")"
   ]
  },
  {
   "cell_type": "code",
   "execution_count": null,
   "metadata": {
    "collapsed": false,
    "slideshow": {
     "slide_type": "-"
    }
   },
   "outputs": [],
   "source": [
    "chartdata.replace(to_replace=\"Charles River Systems\", value=\"Charles River\", inplace=True)\n",
    "\n",
    "startcol = 406\n",
    "ncols = 25\n",
    "chartdict = multicolumn_barchart(chartdata,\n",
    "                                 startcol, \n",
    "                                 ncols, \n",
    "                                 y_label=\"Count\",\n",
    "                                 \n",
    "                                 )\n",
    "\n"
   ]
  },
  {
   "cell_type": "code",
   "execution_count": null,
   "metadata": {
    "collapsed": false,
    "slideshow": {
     "slide_type": "slide"
    }
   },
   "outputs": [],
   "source": [
    "iplot(chartdict, link_text=\"\")"
   ]
  },
  {
   "cell_type": "code",
   "execution_count": null,
   "metadata": {
    "collapsed": false,
    "slideshow": {
     "slide_type": "-"
    }
   },
   "outputs": [],
   "source": [
    "chartdata.replace(to_replace=\"custom built\", value=\"Custom\", inplace=True)\n",
    "chartdata.replace(to_replace=\"internally developed\", value=\"Custom\", inplace=True)\n",
    "chartdata.replace(to_replace=\"Internal system\", value=\"Custom\", inplace=True)\n",
    "question_col = 431\n",
    "\n",
    "chartdict = twocolumn_barchart(chartdata, question_col, y_label=\"Count\")\n",
    "\n"
   ]
  },
  {
   "cell_type": "code",
   "execution_count": null,
   "metadata": {
    "collapsed": false,
    "slideshow": {
     "slide_type": "slide"
    }
   },
   "outputs": [],
   "source": [
    "iplot(chartdict, link_text=\"\")"
   ]
  },
  {
   "cell_type": "code",
   "execution_count": null,
   "metadata": {
    "collapsed": false
   },
   "outputs": [],
   "source": [
    "startcol = 433\n",
    "ncols=18\n",
    "\n",
    "chartdict = multicolumn_barchart(chartdata,\n",
    "                                 startcol, \n",
    "                                 ncols, \n",
    "                                 y_label=\"Count\",\n",
    "                                 title=None\n",
    "                                 )\n"
   ]
  },
  {
   "cell_type": "code",
   "execution_count": null,
   "metadata": {
    "collapsed": false
   },
   "outputs": [],
   "source": [
    "iplot(chartdict, link_text=\"\")"
   ]
  },
  {
   "cell_type": "code",
   "execution_count": null,
   "metadata": {
    "collapsed": false,
    "slideshow": {
     "slide_type": "-"
    }
   },
   "outputs": [],
   "source": [
    "chartdata.replace(to_replace=\"In house developed system\", value=\"Internally developed\", inplace=True)\n",
    "chartdata.replace(to_replace=\"internally developed\", value=\"Internally developed\", inplace=True)\n",
    "\n",
    "startcol = 451\n",
    "ncols = 14\n",
    "chartdict = multicolumn_barchart(chartdata,\n",
    "                                 startcol, \n",
    "                                 ncols, \n",
    "                                 y_label=\"Count\",\n",
    "                                 \n",
    "                                 )"
   ]
  },
  {
   "cell_type": "code",
   "execution_count": null,
   "metadata": {
    "collapsed": false,
    "slideshow": {
     "slide_type": "slide"
    }
   },
   "outputs": [],
   "source": [
    "iplot(chartdict, link_text=\"\")"
   ]
  },
  {
   "cell_type": "markdown",
   "metadata": {
    "slideshow": {
     "slide_type": "slide"
    }
   },
   "source": [
    "# Back Office Solutions"
   ]
  },
  {
   "cell_type": "code",
   "execution_count": null,
   "metadata": {
    "collapsed": false,
    "slideshow": {
     "slide_type": "-"
    }
   },
   "outputs": [],
   "source": [
    "startcol = 465\n",
    "ncols = 9\n",
    "chartdict = multicolumn_barchart(chartdata,\n",
    "                                 startcol, \n",
    "                                 ncols, \n",
    "                                 y_label=\"Count\",\n",
    "                                 )\n"
   ]
  },
  {
   "cell_type": "code",
   "execution_count": null,
   "metadata": {
    "collapsed": false,
    "slideshow": {
     "slide_type": "slide"
    }
   },
   "outputs": [],
   "source": [
    "iplot(chartdict, link_text=\"\")"
   ]
  },
  {
   "cell_type": "code",
   "execution_count": null,
   "metadata": {
    "collapsed": false,
    "slideshow": {
     "slide_type": "-"
    }
   },
   "outputs": [],
   "source": [
    "chartdata.replace(to_replace=\"Enfusion Integrata\", value=\"Enfusion\", inplace=True)\n",
    "\n",
    "\n",
    "startcol = 474\n",
    "ncols = 37\n",
    "chartdict = multicolumn_barchart(chartdata,\n",
    "                                 startcol, \n",
    "                                 ncols, \n",
    "                                 y_label=\"Count\",\n",
    "                                 \n",
    "                                 )\n"
   ]
  },
  {
   "cell_type": "code",
   "execution_count": null,
   "metadata": {
    "collapsed": false,
    "slideshow": {
     "slide_type": "slide"
    }
   },
   "outputs": [],
   "source": [
    "iplot(chartdict, link_text=\"\")"
   ]
  },
  {
   "cell_type": "code",
   "execution_count": null,
   "metadata": {
    "collapsed": false,
    "slideshow": {
     "slide_type": "-"
    }
   },
   "outputs": [],
   "source": [
    "chartdata.replace(to_replace=\"Enfusion Integrata\", value=\"Enfusion\", inplace=True)\n",
    "chartdata.replace(to_replace=\"Triana\", value=\"Traiana\", inplace=True)\n",
    "\n",
    "\n",
    "startcol = 511\n",
    "ncols = 14\n",
    "chartdict = multicolumn_barchart(chartdata,\n",
    "                                 startcol, \n",
    "                                 ncols, \n",
    "                                 y_label=\"Count\",                                 \n",
    "                                 )\n"
   ]
  },
  {
   "cell_type": "code",
   "execution_count": null,
   "metadata": {
    "collapsed": false,
    "slideshow": {
     "slide_type": "slide"
    }
   },
   "outputs": [],
   "source": [
    "iplot(chartdict, link_text=\"\")"
   ]
  },
  {
   "cell_type": "code",
   "execution_count": null,
   "metadata": {
    "collapsed": false,
    "slideshow": {
     "slide_type": "-"
    }
   },
   "outputs": [],
   "source": [
    "startcol=525\n",
    "ncols=10\n",
    "#chartdata.replace(to_replace=\"Enfusion Integrata\", value=\"Enfusion\", inplace=True)\n",
    "chartdict = multicolumn_barchart(chartdata,\n",
    "                                 startcol, \n",
    "                                 ncols, \n",
    "                                 y_label=\"Count\",\n",
    "                                 \n",
    "                                 )"
   ]
  },
  {
   "cell_type": "code",
   "execution_count": null,
   "metadata": {
    "collapsed": false,
    "slideshow": {
     "slide_type": "slide"
    }
   },
   "outputs": [],
   "source": [
    "iplot(chartdict, link_text=\"\")"
   ]
  },
  {
   "cell_type": "code",
   "execution_count": null,
   "metadata": {
    "collapsed": false,
    "slideshow": {
     "slide_type": "-"
    }
   },
   "outputs": [],
   "source": [
    "startcol=535\n",
    "ncols=15\n",
    "#chartdata.replace(to_replace=\"Enfusion Integrata\", value=\"Enfusion\", inplace=True)\n",
    "chartdict = multicolumn_barchart(chartdata,\n",
    "                                 startcol, \n",
    "                                 ncols, \n",
    "                                 y_label=\"Count\",\n",
    "                                )\n",
    "                                "
   ]
  },
  {
   "cell_type": "code",
   "execution_count": null,
   "metadata": {
    "collapsed": false,
    "slideshow": {
     "slide_type": "slide"
    }
   },
   "outputs": [],
   "source": [
    "iplot(chartdict, link_text=\"\")"
   ]
  },
  {
   "cell_type": "code",
   "execution_count": null,
   "metadata": {
    "collapsed": true,
    "slideshow": {
     "slide_type": "-"
    }
   },
   "outputs": [],
   "source": [
    "chartdata.replace(to_replace=\"Advent Axys\", value=\"Advent Axys or APX\", inplace=True)\n",
    "chartdata.replace(to_replace=\"Advent APX (SQL upgrade version of Axys)\", value=\"Advent Axys or APX\", inplace=True)\n",
    "chartdata.replace(to_replace=\"Advent APX\", value=\"Advent Axys or APX\", inplace=True)\n",
    "\n",
    "question_col = 550\n",
    "chartdict = twocolumn_barchart(chartdata, question_col, y_label=\"Count\")\n"
   ]
  },
  {
   "cell_type": "code",
   "execution_count": null,
   "metadata": {
    "collapsed": false,
    "slideshow": {
     "slide_type": "slide"
    }
   },
   "outputs": [],
   "source": [
    "iplot(chartdict, link_text=\"\")"
   ]
  },
  {
   "cell_type": "code",
   "execution_count": null,
   "metadata": {
    "collapsed": true,
    "slideshow": {
     "slide_type": "-"
    }
   },
   "outputs": [],
   "source": [
    "question_col = 552\n",
    "chartdict = twocolumn_barchart(chartdata, question_col, \n",
    "                               title=\"Do you outsource middle/back office functions<br />to a managed services provider?\",\n",
    "                               y_label=\"Count\")\n"
   ]
  },
  {
   "cell_type": "code",
   "execution_count": null,
   "metadata": {
    "collapsed": false,
    "slideshow": {
     "slide_type": "slide"
    }
   },
   "outputs": [],
   "source": [
    "iplot(chartdict, link_text=\"\")"
   ]
  },
  {
   "cell_type": "code",
   "execution_count": null,
   "metadata": {
    "collapsed": false,
    "slideshow": {
     "slide_type": "-"
    }
   },
   "outputs": [],
   "source": [
    "startcol=554\n",
    "ncols=10\n",
    "#chartdata.replace(to_replace=\"Enfusion Integrata\", value=\"Enfusion\", inplace=True)\n",
    "chartdict = multicolumn_barchart(chartdata,\n",
    "                                 startcol, \n",
    "                                 ncols, \n",
    "                                 y_label=\"Count\",\n",
    "                                 title=\"If Yes, which firms are you using / considering?\"\n",
    "                                 )\n",
    "\n",
    "\n"
   ]
  },
  {
   "cell_type": "code",
   "execution_count": null,
   "metadata": {
    "collapsed": false,
    "slideshow": {
     "slide_type": "slide"
    }
   },
   "outputs": [],
   "source": [
    "iplot(chartdict, link_text=\"\")"
   ]
  },
  {
   "cell_type": "code",
   "execution_count": null,
   "metadata": {
    "collapsed": false,
    "slideshow": {
     "slide_type": "-"
    }
   },
   "outputs": [],
   "source": [
    "startcol=564\n",
    "ncols=8\n",
    "#chartdata.replace(to_replace=\"Enfusion Integrata\", value=\"Enfusion\", inplace=True)\n",
    "chartdict = multicolumn_barchart(chartdata,\n",
    "                                 startcol, \n",
    "                                 ncols, \n",
    "                                 y_label=\"Count\",\n",
    "                                 title=\"If Yes, which functions are you outsourcing / considering?\"\n",
    "                                 )\n"
   ]
  },
  {
   "cell_type": "code",
   "execution_count": null,
   "metadata": {
    "collapsed": false,
    "slideshow": {
     "slide_type": "slide"
    }
   },
   "outputs": [],
   "source": [
    "iplot(chartdict, link_text=\"\")"
   ]
  },
  {
   "cell_type": "code",
   "execution_count": null,
   "metadata": {
    "collapsed": false,
    "slideshow": {
     "slide_type": "-"
    }
   },
   "outputs": [],
   "source": [
    "startcol=572\n",
    "ncols=7\n",
    "chartdict = multicolumn_barchart(chartdata,\n",
    "                                 startcol, \n",
    "                                 ncols, \n",
    "                                 y_label=\"Count\",\n",
    "                                 title =\"If Yes, what were the drivers to determine the use of managed services?\"\n",
    "                                 )\n",
    "\n",
    "\n"
   ]
  },
  {
   "cell_type": "code",
   "execution_count": null,
   "metadata": {
    "collapsed": false,
    "slideshow": {
     "slide_type": "slide"
    }
   },
   "outputs": [],
   "source": [
    "iplot(chartdict, link_text=\"\")"
   ]
  },
  {
   "cell_type": "code",
   "execution_count": null,
   "metadata": {
    "collapsed": true,
    "slideshow": {
     "slide_type": "-"
    }
   },
   "outputs": [],
   "source": [
    "chartdict = twocolumn_barchart(chartdata, 579, y_label=\"Count\")\n"
   ]
  },
  {
   "cell_type": "code",
   "execution_count": null,
   "metadata": {
    "collapsed": false,
    "slideshow": {
     "slide_type": "slide"
    }
   },
   "outputs": [],
   "source": [
    "iplot(chartdict, link_text=\"\")"
   ]
  },
  {
   "cell_type": "code",
   "execution_count": null,
   "metadata": {
    "collapsed": false,
    "slideshow": {
     "slide_type": "-"
    }
   },
   "outputs": [],
   "source": [
    "chartdata.replace(to_replace=\"Sunguard\", value=\"Sungard\", inplace=True)\n",
    "startcol=581\n",
    "ncols=21\n",
    "chartdict = multicolumn_barchart(chartdata,\n",
    "                                 startcol, \n",
    "                                 ncols, \n",
    "                                 y_label=\"Count\",\n",
    "                                 title=None\n",
    "                                 )\n"
   ]
  },
  {
   "cell_type": "code",
   "execution_count": null,
   "metadata": {
    "collapsed": false,
    "slideshow": {
     "slide_type": "slide"
    }
   },
   "outputs": [],
   "source": [
    "iplot(chartdict, link_text=\"\")"
   ]
  },
  {
   "cell_type": "code",
   "execution_count": null,
   "metadata": {
    "collapsed": false,
    "slideshow": {
     "slide_type": "-"
    }
   },
   "outputs": [],
   "source": [
    "chartdata.replace(to_replace=\"Eze\", value=\"Eze Castle\", inplace=True)\n",
    "chartdata.replace(to_replace=\"Eze Castle / Voice\", value=\"Eze Castle\", inplace=True)\n",
    "startcol=602\n",
    "ncols=14\n",
    "chartdict = multicolumn_barchart(chartdata,\n",
    "                                 startcol, \n",
    "                                 ncols, \n",
    "                                 y_label=\"Count\",\n",
    "                                 title=None\n",
    "                                 )\n"
   ]
  },
  {
   "cell_type": "code",
   "execution_count": null,
   "metadata": {
    "collapsed": false,
    "slideshow": {
     "slide_type": "slide"
    }
   },
   "outputs": [],
   "source": [
    "iplot(chartdict, link_text=\"\")"
   ]
  },
  {
   "cell_type": "markdown",
   "metadata": {
    "collapsed": true,
    "slideshow": {
     "slide_type": "slide"
    }
   },
   "source": [
    "# Software Development"
   ]
  },
  {
   "cell_type": "code",
   "execution_count": null,
   "metadata": {
    "collapsed": false,
    "slideshow": {
     "slide_type": "-"
    }
   },
   "outputs": [],
   "source": [
    "startcol=616\n",
    "ncols=7\n",
    "chartdict = multicolumn_barchart(chartdata,\n",
    "                                 startcol, \n",
    "                                 ncols, \n",
    "                                 y_label=\"Count\",\n",
    "                                 title=None\n",
    "                                 )\n"
   ]
  },
  {
   "cell_type": "code",
   "execution_count": null,
   "metadata": {
    "collapsed": false,
    "slideshow": {
     "slide_type": "slide"
    }
   },
   "outputs": [],
   "source": [
    "iplot(chartdict, link_text=\"\")"
   ]
  },
  {
   "cell_type": "code",
   "execution_count": null,
   "metadata": {
    "collapsed": true,
    "slideshow": {
     "slide_type": "-"
    }
   },
   "outputs": [],
   "source": [
    "chartdict = twocolumn_barchart(chartdata, 623, y_label=\"Count\")\n",
    "\n"
   ]
  },
  {
   "cell_type": "code",
   "execution_count": null,
   "metadata": {
    "collapsed": false,
    "slideshow": {
     "slide_type": "slide"
    }
   },
   "outputs": [],
   "source": [
    "iplot(chartdict, link_text=\"\")"
   ]
  },
  {
   "cell_type": "code",
   "execution_count": null,
   "metadata": {
    "collapsed": false,
    "slideshow": {
     "slide_type": "-"
    }
   },
   "outputs": [],
   "source": [
    "chartdict = multicolumn_barchart(chartdata, \n",
    "                                 625, \n",
    "                                 11, \n",
    "                                 y_label=\"Count\", \n",
    "                                 title=\"What programming languages do you use?<br />(Desktop/Server)\")\n"
   ]
  },
  {
   "cell_type": "code",
   "execution_count": null,
   "metadata": {
    "collapsed": false,
    "slideshow": {
     "slide_type": "slide"
    }
   },
   "outputs": [],
   "source": [
    "iplot(chartdict, link_text=\"\")"
   ]
  },
  {
   "cell_type": "code",
   "execution_count": null,
   "metadata": {
    "collapsed": false,
    "slideshow": {
     "slide_type": "-"
    }
   },
   "outputs": [],
   "source": [
    "chartdict = multicolumn_barchart(chartdata, \n",
    "                                 636, \n",
    "                                 13, \n",
    "                                 y_label=\"Count\", \n",
    "                                 title=\"What statistical/quant analysis frameworks does your firm use?\")"
   ]
  },
  {
   "cell_type": "code",
   "execution_count": null,
   "metadata": {
    "collapsed": false,
    "slideshow": {
     "slide_type": "slide"
    }
   },
   "outputs": [],
   "source": [
    "iplot(chartdict, link_text=\"\")"
   ]
  },
  {
   "cell_type": "code",
   "execution_count": null,
   "metadata": {
    "collapsed": false,
    "slideshow": {
     "slide_type": "-"
    }
   },
   "outputs": [],
   "source": [
    "chartdict = multicolumn_barchart(chartdata,\n",
    "                                 649, \n",
    "                                 10, \n",
    "                                 y_label=\"Count\", \n",
    "                                 title=\"What development platforms do you use<br />(Web front-end)?\")"
   ]
  },
  {
   "cell_type": "code",
   "execution_count": null,
   "metadata": {
    "collapsed": false,
    "slideshow": {
     "slide_type": "slide"
    }
   },
   "outputs": [],
   "source": [
    "iplot(chartdict, link_text=\"\")"
   ]
  },
  {
   "cell_type": "code",
   "execution_count": null,
   "metadata": {
    "collapsed": false,
    "slideshow": {
     "slide_type": "-"
    }
   },
   "outputs": [],
   "source": [
    "chartdict = multicolumn_barchart(chartdata,\n",
    "                                 659, \n",
    "                                 9, \n",
    "                                 y_label=\"Count\",\n",
    "                                 title=\"What development platforms do you use<br />(Web back-end)?\"\n",
    "                                )"
   ]
  },
  {
   "cell_type": "code",
   "execution_count": null,
   "metadata": {
    "collapsed": false,
    "slideshow": {
     "slide_type": "slide"
    }
   },
   "outputs": [],
   "source": [
    "iplot(chartdict, link_text=\"\")"
   ]
  },
  {
   "cell_type": "code",
   "execution_count": null,
   "metadata": {
    "collapsed": false,
    "slideshow": {
     "slide_type": "-"
    }
   },
   "outputs": [],
   "source": [
    "chartdict = multicolumn_barchart(chartdata,\n",
    "                                 668, \n",
    "                                 10, \n",
    "                                 y_label=\"Count\",\n",
    "                                 title=\"What development platforms do you use <br />(mobile)?\"\n",
    "                                )"
   ]
  },
  {
   "cell_type": "code",
   "execution_count": null,
   "metadata": {
    "collapsed": false,
    "slideshow": {
     "slide_type": "slide"
    }
   },
   "outputs": [],
   "source": [
    "iplot(chartdict, link_text=\"\")"
   ]
  },
  {
   "cell_type": "code",
   "execution_count": null,
   "metadata": {
    "collapsed": false,
    "slideshow": {
     "slide_type": "-"
    }
   },
   "outputs": [],
   "source": [
    "chartdict = multicolumn_barchart(chartdata,\n",
    "                                 678, \n",
    "                                 6, \n",
    "                                 y_label=\"Count\",\n",
    "                                 #title=\"\"\n",
    "                                )"
   ]
  },
  {
   "cell_type": "code",
   "execution_count": null,
   "metadata": {
    "collapsed": false,
    "slideshow": {
     "slide_type": "slide"
    }
   },
   "outputs": [],
   "source": [
    "iplot(chartdict, link_text=\"\")"
   ]
  },
  {
   "cell_type": "code",
   "execution_count": null,
   "metadata": {
    "collapsed": false,
    "slideshow": {
     "slide_type": "-"
    }
   },
   "outputs": [],
   "source": [
    "chartdict = multicolumn_barchart(chartdata,\n",
    "                                 684, \n",
    "                                 9, \n",
    "                                 y_label=\"Count\",\n",
    "                                 #title=\"\"\n",
    "                                )"
   ]
  },
  {
   "cell_type": "code",
   "execution_count": null,
   "metadata": {
    "collapsed": false,
    "slideshow": {
     "slide_type": "slide"
    }
   },
   "outputs": [],
   "source": [
    "iplot(chartdict, link_text=\"\")"
   ]
  },
  {
   "cell_type": "markdown",
   "metadata": {
    "collapsed": true,
    "slideshow": {
     "slide_type": "slide"
    }
   },
   "source": [
    "# Security"
   ]
  },
  {
   "cell_type": "code",
   "execution_count": null,
   "metadata": {
    "collapsed": false,
    "slideshow": {
     "slide_type": "-"
    }
   },
   "outputs": [],
   "source": [
    "chartdict = multicolumn_barchart(chartdata,\n",
    "                                 693, \n",
    "                                 21, \n",
    "                                 y_label=\"Count\",\n",
    "                                 #title=\"\"\n",
    "                                )"
   ]
  },
  {
   "cell_type": "code",
   "execution_count": null,
   "metadata": {
    "collapsed": false,
    "slideshow": {
     "slide_type": "slide"
    }
   },
   "outputs": [],
   "source": [
    "iplot(chartdict, link_text=\"\")"
   ]
  },
  {
   "cell_type": "code",
   "execution_count": null,
   "metadata": {
    "collapsed": true,
    "slideshow": {
     "slide_type": "-"
    }
   },
   "outputs": [],
   "source": [
    "chartdict = onecolumn_barchart(chartdata, \n",
    "                               714, \n",
    "                               x_label=\"\",\n",
    "                               y_label=\"Count\",\n",
    "                               title=None)\n"
   ]
  },
  {
   "cell_type": "code",
   "execution_count": null,
   "metadata": {
    "collapsed": false,
    "slideshow": {
     "slide_type": "slide"
    }
   },
   "outputs": [],
   "source": [
    "iplot(chartdict, link_text=\"\")"
   ]
  },
  {
   "cell_type": "code",
   "execution_count": null,
   "metadata": {
    "collapsed": false,
    "slideshow": {
     "slide_type": "-"
    }
   },
   "outputs": [],
   "source": [
    "\n",
    "chartdata.replace(to_replace=\"edgewave\", value=\"EdgeWave\", inplace=True)\n",
    "chartdata.replace(to_replace=\"Edgewave\", value=\"EdgeWave\", inplace=True)\n",
    "chartdata.replace(to_replace=\"zscaler\", value=\"ZScaler\", inplace=True)\n",
    "\n",
    "chartdict = multicolumn_barchart(chartdata,\n",
    "                                 715, \n",
    "                                 11, \n",
    "                                 y_label=\"Count\",\n",
    "                                 #title=\"\"\n",
    "                                )"
   ]
  },
  {
   "cell_type": "code",
   "execution_count": null,
   "metadata": {
    "collapsed": false,
    "slideshow": {
     "slide_type": "slide"
    }
   },
   "outputs": [],
   "source": [
    "iplot(chartdict, link_text=\"\")"
   ]
  },
  {
   "cell_type": "code",
   "execution_count": null,
   "metadata": {
    "collapsed": false,
    "slideshow": {
     "slide_type": "-"
    }
   },
   "outputs": [],
   "source": [
    "chartdict = multicolumn_barchart(chartdata,\n",
    "                                 726, \n",
    "                                 9, \n",
    "                                 y_label=\"Count\",\n",
    "                                 #title=\"\"\n",
    "                                )"
   ]
  },
  {
   "cell_type": "code",
   "execution_count": null,
   "metadata": {
    "collapsed": false,
    "slideshow": {
     "slide_type": "slide"
    }
   },
   "outputs": [],
   "source": [
    "iplot(chartdict, link_text=\"\")"
   ]
  },
  {
   "cell_type": "code",
   "execution_count": null,
   "metadata": {
    "collapsed": false,
    "slideshow": {
     "slide_type": "-"
    }
   },
   "outputs": [],
   "source": [
    "chartdict = multicolumn_barchart(chartdata,\n",
    "                                 735, \n",
    "                                 5, \n",
    "                                 y_label=\"Count\",\n",
    "                                 #title=\"\"\n",
    "                                )"
   ]
  },
  {
   "cell_type": "code",
   "execution_count": null,
   "metadata": {
    "collapsed": false,
    "slideshow": {
     "slide_type": "slide"
    }
   },
   "outputs": [],
   "source": [
    "iplot(chartdict, link_text=\"\")"
   ]
  },
  {
   "cell_type": "code",
   "execution_count": null,
   "metadata": {
    "collapsed": false,
    "slideshow": {
     "slide_type": "-"
    }
   },
   "outputs": [],
   "source": [
    "chartdict = multicolumn_barchart(chartdata,\n",
    "                                 740, \n",
    "                                 5, \n",
    "                                 y_label=\"Count\",\n",
    "                                 #title=\"\"\n",
    "                                )"
   ]
  },
  {
   "cell_type": "code",
   "execution_count": null,
   "metadata": {
    "collapsed": false,
    "slideshow": {
     "slide_type": "slide"
    }
   },
   "outputs": [],
   "source": [
    "iplot(chartdict, link_text=\"\")"
   ]
  },
  {
   "cell_type": "code",
   "execution_count": null,
   "metadata": {
    "collapsed": false,
    "slideshow": {
     "slide_type": "-"
    }
   },
   "outputs": [],
   "source": [
    "chartdict = multicolumn_barchart(chartdata,\n",
    "                                 745, \n",
    "                                 32, \n",
    "                                 y_label=\"Count\",\n",
    "                                 #title=\"\"\n",
    "                                )"
   ]
  },
  {
   "cell_type": "code",
   "execution_count": null,
   "metadata": {
    "collapsed": false,
    "slideshow": {
     "slide_type": "slide"
    }
   },
   "outputs": [],
   "source": [
    "chartdata.replace(to_replace=\"bespoke\", value=\"Custom\", inplace=True)\n",
    "iplot(chartdict, link_text=\"\")"
   ]
  },
  {
   "cell_type": "code",
   "execution_count": null,
   "metadata": {
    "collapsed": false,
    "slideshow": {
     "slide_type": "-"
    }
   },
   "outputs": [],
   "source": [
    "chartdata.replace(to_replace=\"bespoke\", value=\"Custom\", inplace=True)\n",
    "chartdata.replace(to_replace=\"winscp\", value=\"WinSCP\", inplace=True)\n",
    "chartdata.replace(to_replace=\"Winscp\", value=\"WinSCP\", inplace=True)\n",
    "chartdict = multicolumn_barchart(chartdata,\n",
    "                                 777, \n",
    "                                 8, \n",
    "                                 y_label=\"Count\",\n",
    "                                 #title=\"\"\n",
    "                                )"
   ]
  },
  {
   "cell_type": "code",
   "execution_count": null,
   "metadata": {
    "collapsed": false,
    "slideshow": {
     "slide_type": "slide"
    }
   },
   "outputs": [],
   "source": [
    "iplot(chartdict, link_text=\"\")"
   ]
  },
  {
   "cell_type": "code",
   "execution_count": null,
   "metadata": {
    "collapsed": false,
    "slideshow": {
     "slide_type": "-"
    }
   },
   "outputs": [],
   "source": [
    "chartdata.replace(to_replace=\"Mimecast secure send\", value=\"Mimecast Secure Send\", inplace=True)\n",
    "chartdict = multicolumn_barchart(chartdata,\n",
    "                                 785, \n",
    "                                 10, \n",
    "                                 y_label=\"Count\",\n",
    "                                 #title=\"\"\n",
    "                                )"
   ]
  },
  {
   "cell_type": "code",
   "execution_count": null,
   "metadata": {
    "collapsed": false,
    "slideshow": {
     "slide_type": "slide"
    }
   },
   "outputs": [],
   "source": [
    "iplot(chartdict, link_text=\"\")"
   ]
  },
  {
   "cell_type": "code",
   "execution_count": null,
   "metadata": {
    "collapsed": false,
    "slideshow": {
     "slide_type": "-"
    }
   },
   "outputs": [],
   "source": [
    "\n",
    "\n",
    "chartdict = multicolumn_barchart(chartdata,\n",
    "                                 795, \n",
    "                                 9, \n",
    "                                 y_label=\"Count\",\n",
    "                                 #title=\"\"\n",
    "                                )"
   ]
  },
  {
   "cell_type": "code",
   "execution_count": null,
   "metadata": {
    "collapsed": false,
    "slideshow": {
     "slide_type": "slide"
    }
   },
   "outputs": [],
   "source": [
    "iplot(chartdict, link_text=\"\")"
   ]
  },
  {
   "cell_type": "code",
   "execution_count": null,
   "metadata": {
    "collapsed": true,
    "slideshow": {
     "slide_type": "-"
    }
   },
   "outputs": [],
   "source": [
    "chartdict = onecolumn_barchart(chartdata, \n",
    "                               804, \n",
    "                               x_label=\"\",\n",
    "                               y_label=\"Count\",\n",
    "                               title=None)\n"
   ]
  },
  {
   "cell_type": "code",
   "execution_count": null,
   "metadata": {
    "collapsed": false,
    "slideshow": {
     "slide_type": "slide"
    }
   },
   "outputs": [],
   "source": [
    "iplot(chartdict, link_text=\"\")"
   ]
  },
  {
   "cell_type": "code",
   "execution_count": null,
   "metadata": {
    "collapsed": false,
    "slideshow": {
     "slide_type": "-"
    }
   },
   "outputs": [],
   "source": [
    "chartdict = multicolumn_barchart(chartdata,\n",
    "                                 805, \n",
    "                                 19, \n",
    "                                 y_label=\"Count\",\n",
    "                                 title=\"What Intrusion Detection/Prevention System (IDS/IPS) or <br />Unified Threat Management (UTM) vendor does your firm use?\"\n",
    "                                )"
   ]
  },
  {
   "cell_type": "code",
   "execution_count": null,
   "metadata": {
    "collapsed": false,
    "slideshow": {
     "slide_type": "slide"
    }
   },
   "outputs": [],
   "source": [
    "iplot(chartdict, link_text=\"\")"
   ]
  },
  {
   "cell_type": "code",
   "execution_count": null,
   "metadata": {
    "collapsed": false,
    "slideshow": {
     "slide_type": "-"
    }
   },
   "outputs": [],
   "source": [
    "chartdict = multicolumn_barchart(chartdata,\n",
    "                                 824, \n",
    "                                 7, \n",
    "                                 y_label=\"Count\",\n",
    "                                 #title=\"\"\n",
    "                                )"
   ]
  },
  {
   "cell_type": "code",
   "execution_count": null,
   "metadata": {
    "collapsed": false,
    "slideshow": {
     "slide_type": "slide"
    }
   },
   "outputs": [],
   "source": [
    "iplot(chartdict, link_text=\"\")"
   ]
  },
  {
   "cell_type": "code",
   "execution_count": null,
   "metadata": {
    "collapsed": false,
    "slideshow": {
     "slide_type": "-"
    }
   },
   "outputs": [],
   "source": [
    "chartdata.replace(to_replace=\"OKTA\", value=\"Okta\", inplace=True)\n",
    "chartdata.replace(to_replace=\"Okta Verify\", value=\"Okta\", inplace=True)\n",
    "chartdata.replace(to_replace=\"Microsoft 2 factor\", value=\"Microsoft\", inplace=True)\n",
    "chartdata.replace(to_replace=\"Gemoto (Safenet)\", value=\"Gemalto\", inplace=True)\n",
    "\n",
    "\n",
    "\n",
    "chartdict = multicolumn_barchart(chartdata,\n",
    "                                 831, \n",
    "                                 7, \n",
    "                                 y_label=\"Count\",\n",
    "                                 #title=\"\"\n",
    "                                )"
   ]
  },
  {
   "cell_type": "code",
   "execution_count": null,
   "metadata": {
    "collapsed": false,
    "slideshow": {
     "slide_type": "slide"
    }
   },
   "outputs": [],
   "source": [
    "iplot(chartdict, link_text=\"\")"
   ]
  },
  {
   "cell_type": "code",
   "execution_count": null,
   "metadata": {
    "collapsed": false,
    "slideshow": {
     "slide_type": "-"
    }
   },
   "outputs": [],
   "source": [
    "chartdata.replace(to_replace=\"onboarding ADFS\", value=\"ADFS\", inplace=True)\n",
    "chartdata.replace(to_replace=\"ADFS/SAML\", value=\"ADFS\", inplace=True)\n",
    "chartdata.replace(to_replace=\"DUO Access Gateway\", value=\"Duo\", inplace=True)\n",
    "\n",
    "\n",
    "chartdata[\"What SSO does your firm use? - Other (please specify).1\"].replace(to_replace=\"MSFT\", value=\"Microsoft\", inplace=True)\n",
    "\n",
    "chartdict = multicolumn_barchart(chartdata,\n",
    "                                 838, \n",
    "                                 8, \n",
    "                                 y_label=\"Count\",\n",
    "                                 #title=\"\"\n",
    "                                )"
   ]
  },
  {
   "cell_type": "code",
   "execution_count": null,
   "metadata": {
    "collapsed": false,
    "slideshow": {
     "slide_type": "slide"
    }
   },
   "outputs": [],
   "source": [
    "iplot(chartdict, link_text=\"\")"
   ]
  },
  {
   "cell_type": "code",
   "execution_count": null,
   "metadata": {
    "collapsed": true,
    "slideshow": {
     "slide_type": "-"
    }
   },
   "outputs": [],
   "source": [
    "chartdict = onecolumn_barchart(chartdata, \n",
    "                               846, \n",
    "                               x_label=\"\",\n",
    "                               y_label=\"Count\",\n",
    "                               title=None)\n"
   ]
  },
  {
   "cell_type": "code",
   "execution_count": null,
   "metadata": {
    "collapsed": false,
    "slideshow": {
     "slide_type": "slide"
    }
   },
   "outputs": [],
   "source": [
    "iplot(chartdict, link_text=\"\")"
   ]
  },
  {
   "cell_type": "code",
   "execution_count": null,
   "metadata": {
    "collapsed": true,
    "slideshow": {
     "slide_type": "-"
    }
   },
   "outputs": [],
   "source": [
    "chartdict = onecolumn_barchart(chartdata, \n",
    "                               847, \n",
    "                               x_label=\"\",\n",
    "                               y_label=\"Count\",\n",
    "                               title=None)\n"
   ]
  },
  {
   "cell_type": "code",
   "execution_count": null,
   "metadata": {
    "collapsed": false,
    "slideshow": {
     "slide_type": "slide"
    }
   },
   "outputs": [],
   "source": [
    "iplot(chartdict, link_text=\"\")"
   ]
  },
  {
   "cell_type": "code",
   "execution_count": null,
   "metadata": {
    "collapsed": true,
    "slideshow": {
     "slide_type": "-"
    }
   },
   "outputs": [],
   "source": [
    "chartdict = onecolumn_barchart(chartdata, \n",
    "                               848, \n",
    "                               x_label=\"\",\n",
    "                               y_label=\"Count\",\n",
    "                               title=None)\n"
   ]
  },
  {
   "cell_type": "code",
   "execution_count": null,
   "metadata": {
    "collapsed": false,
    "slideshow": {
     "slide_type": "slide"
    }
   },
   "outputs": [],
   "source": [
    "iplot(chartdict, link_text=\"\")"
   ]
  },
  {
   "cell_type": "code",
   "execution_count": null,
   "metadata": {
    "collapsed": true,
    "slideshow": {
     "slide_type": "-"
    }
   },
   "outputs": [],
   "source": [
    "chartdict = onecolumn_barchart(chartdata, \n",
    "                               849, \n",
    "                               x_label=\"\",\n",
    "                               y_label=\"Count\",\n",
    "                               title=\"What is your password policy?<br />Maximum number of failed attempts before lockout\")\n"
   ]
  },
  {
   "cell_type": "code",
   "execution_count": null,
   "metadata": {
    "collapsed": false,
    "slideshow": {
     "slide_type": "slide"
    }
   },
   "outputs": [],
   "source": [
    "iplot(chartdict, link_text=\"\")"
   ]
  },
  {
   "cell_type": "code",
   "execution_count": null,
   "metadata": {
    "collapsed": false,
    "slideshow": {
     "slide_type": "-"
    }
   },
   "outputs": [],
   "source": [
    "chartdata.replace(to_replace=\"keepass\", value=\"KeePass\", inplace=True)\n",
    "chartdata.replace(to_replace=\"keypass\", value=\"KeePass\", inplace=True)\n",
    "chartdata.replace(to_replace=\"PMP\", value=\"Password Manager Pro\", inplace=True)\n",
    "\n",
    "chartdict = multicolumn_barchart(chartdata,\n",
    "                                 850, \n",
    "                                 11, \n",
    "                                 y_label=\"Count\",\n",
    "                                 #title=\"\"\n",
    "                                )"
   ]
  },
  {
   "cell_type": "code",
   "execution_count": null,
   "metadata": {
    "collapsed": false,
    "slideshow": {
     "slide_type": "slide"
    }
   },
   "outputs": [],
   "source": [
    "iplot(chartdict, link_text=\"\")"
   ]
  },
  {
   "cell_type": "code",
   "execution_count": null,
   "metadata": {
    "collapsed": false,
    "slideshow": {
     "slide_type": "-"
    }
   },
   "outputs": [],
   "source": [
    "chartdata.replace(to_replace=\"elasticsearch\", value=\"ELK\", inplace=True)\n",
    "chartdata.replace(to_replace=\"Proprietary on ELK stack\", value=\"ELK\", inplace=True)\n",
    "chartdata.replace(to_replace=\"E-Sentire\", value=\"eSentire\", inplace=True)\n",
    "chartdata.replace(to_replace=\"eSentire Log Sentry\", value=\"eSentire\", inplace=True)\n",
    "chartdata.replace(to_replace=\"rapid7\", value=\"Rapid7\", inplace=True)\n",
    "\n",
    "\n",
    "chartdict = multicolumn_barchart(chartdata,\n",
    "                                 861, \n",
    "                                 10, \n",
    "                                 y_label=\"Count\",\n",
    "                                 #title=\"\"\n",
    "                                )"
   ]
  },
  {
   "cell_type": "code",
   "execution_count": null,
   "metadata": {
    "collapsed": false,
    "slideshow": {
     "slide_type": "slide"
    }
   },
   "outputs": [],
   "source": [
    "iplot(chartdict, link_text=\"\")"
   ]
  },
  {
   "cell_type": "code",
   "execution_count": null,
   "metadata": {
    "collapsed": true,
    "slideshow": {
     "slide_type": "-"
    }
   },
   "outputs": [],
   "source": [
    "chartdict = onecolumn_barchart(chartdata, \n",
    "                               871, \n",
    "                               x_label=\"\",\n",
    "                               y_label=\"Count\",\n",
    "                               col_order=[\"Yes\",\"No\",\"No Answer\"]\n",
    "                               #title=\"\"\n",
    "                              )\n"
   ]
  },
  {
   "cell_type": "code",
   "execution_count": null,
   "metadata": {
    "collapsed": false,
    "slideshow": {
     "slide_type": "slide"
    }
   },
   "outputs": [],
   "source": [
    "iplot(chartdict, link_text=\"\")"
   ]
  },
  {
   "cell_type": "code",
   "execution_count": null,
   "metadata": {
    "collapsed": true,
    "slideshow": {
     "slide_type": "-"
    }
   },
   "outputs": [],
   "source": [
    "chartdict = onecolumn_barchart(chartdata, \n",
    "                               872, \n",
    "                               x_label=\"\",\n",
    "                               y_label=\"Count\",\n",
    "                               #title=\"\"\n",
    "                              )"
   ]
  },
  {
   "cell_type": "code",
   "execution_count": null,
   "metadata": {
    "collapsed": false,
    "slideshow": {
     "slide_type": "slide"
    }
   },
   "outputs": [],
   "source": [
    "iplot(chartdict, link_text=\"\")"
   ]
  },
  {
   "cell_type": "code",
   "execution_count": null,
   "metadata": {
    "collapsed": true,
    "slideshow": {
     "slide_type": "-"
    }
   },
   "outputs": [],
   "source": [
    "chartdict = onecolumn_barchart(chartdata, \n",
    "                               873, \n",
    "                               x_label=\"\",\n",
    "                               y_label=\"Count\",\n",
    "                               col_order=['0-10','11-25','26-50','51-100','100+','No Answer',]\n",
    "                               #title=\"\"\n",
    "                              )"
   ]
  },
  {
   "cell_type": "code",
   "execution_count": null,
   "metadata": {
    "collapsed": false,
    "slideshow": {
     "slide_type": "slide"
    }
   },
   "outputs": [],
   "source": [
    "iplot(chartdict, link_text=\"\")"
   ]
  },
  {
   "cell_type": "code",
   "execution_count": null,
   "metadata": {
    "collapsed": true,
    "slideshow": {
     "slide_type": "-"
    }
   },
   "outputs": [],
   "source": [
    "chartdict = onecolumn_barchart(chartdata, \n",
    "                               874, \n",
    "                               x_label=\"\",\n",
    "                               y_label=\"Count\",\n",
    "                               col_order=['0-5','6-10','11-15','16-25','25+','No Answer',]\n",
    "                               #title=\"\"\n",
    "                              )"
   ]
  },
  {
   "cell_type": "code",
   "execution_count": null,
   "metadata": {
    "collapsed": false,
    "slideshow": {
     "slide_type": "slide"
    }
   },
   "outputs": [],
   "source": [
    "iplot(chartdict, link_text=\"\")"
   ]
  },
  {
   "cell_type": "code",
   "execution_count": null,
   "metadata": {
    "collapsed": false,
    "slideshow": {
     "slide_type": "-"
    }
   },
   "outputs": [],
   "source": [
    "chartdict = multicolumn_barchart(chartdata,\n",
    "                                 875, \n",
    "                                 10, \n",
    "                                 y_label=\"Count\",\n",
    "                                 #title=\"\"\n",
    "                                )"
   ]
  },
  {
   "cell_type": "code",
   "execution_count": null,
   "metadata": {
    "collapsed": false,
    "slideshow": {
     "slide_type": "slide"
    }
   },
   "outputs": [],
   "source": [
    "iplot(chartdict, link_text=\"\")"
   ]
  },
  {
   "cell_type": "code",
   "execution_count": null,
   "metadata": {
    "collapsed": false,
    "slideshow": {
     "slide_type": "-"
    }
   },
   "outputs": [],
   "source": [
    "chartdict = multicolumn_barchart(chartdata,\n",
    "                                 885, \n",
    "                                 12, \n",
    "                                 y_label=\"Count\",\n",
    "                                 title=\"What type of vendors are critical<br />as they host or have access to sensitive information?\"\n",
    "                                )"
   ]
  },
  {
   "cell_type": "code",
   "execution_count": null,
   "metadata": {
    "collapsed": false,
    "slideshow": {
     "slide_type": "slide"
    }
   },
   "outputs": [],
   "source": [
    "iplot(chartdict, link_text=\"\")"
   ]
  },
  {
   "cell_type": "code",
   "execution_count": null,
   "metadata": {
    "collapsed": true,
    "slideshow": {
     "slide_type": "-"
    }
   },
   "outputs": [],
   "source": [
    "chartdict = onecolumn_barchart(chartdata, \n",
    "                               897, \n",
    "                               x_label=\"\",\n",
    "                               y_label=\"Count\",\n",
    "                               title=\"Are you actively reviewing vendor relationships<br />to reduce the  number of relationships?\",\n",
    "                               col_order=[\"Yes\",\"No\",\"No Answer\"]\n",
    "                              )"
   ]
  },
  {
   "cell_type": "code",
   "execution_count": null,
   "metadata": {
    "collapsed": false,
    "slideshow": {
     "slide_type": "slide"
    }
   },
   "outputs": [],
   "source": [
    "iplot(chartdict, link_text=\"\")"
   ]
  },
  {
   "cell_type": "code",
   "execution_count": null,
   "metadata": {
    "collapsed": false,
    "slideshow": {
     "slide_type": "-"
    }
   },
   "outputs": [],
   "source": [
    "chartdict = multicolumn_barchart(chartdata,\n",
    "                                 898, \n",
    "                                 10, \n",
    "                                 y_label=\"Count\",\n",
    "                                 #title=\"\"\n",
    "                                )"
   ]
  },
  {
   "cell_type": "code",
   "execution_count": null,
   "metadata": {
    "collapsed": false,
    "slideshow": {
     "slide_type": "slide"
    }
   },
   "outputs": [],
   "source": [
    "iplot(chartdict, link_text=\"\")"
   ]
  },
  {
   "cell_type": "code",
   "execution_count": null,
   "metadata": {
    "collapsed": false,
    "slideshow": {
     "slide_type": "-"
    }
   },
   "outputs": [],
   "source": [
    "chartdict = multicolumn_barchart(chartdata,\n",
    "                                 908, \n",
    "                                 21, \n",
    "                                 y_label=\"Count\",\n",
    "                                 title=\"What company has your firm used for penetration tests<br />and other information security assessments?\",\n",
    "                                 x_label_size=11,\n",
    "                                )"
   ]
  },
  {
   "cell_type": "code",
   "execution_count": null,
   "metadata": {
    "collapsed": false,
    "slideshow": {
     "slide_type": "slide"
    }
   },
   "outputs": [],
   "source": [
    "iplot(chartdict, link_text=\"\")"
   ]
  },
  {
   "cell_type": "code",
   "execution_count": null,
   "metadata": {
    "collapsed": true,
    "slideshow": {
     "slide_type": "-"
    }
   },
   "outputs": [],
   "source": [
    "chartdict = onecolumn_barchart(chartdata, \n",
    "                               929, \n",
    "                               x_label=\"\",\n",
    "                               y_label=\"Count\",\n",
    "                               #title=\"Are you actively reviewing vendor relationships<br />to reduce the  number of relationships?\"\n",
    "                              )"
   ]
  },
  {
   "cell_type": "code",
   "execution_count": null,
   "metadata": {
    "collapsed": false,
    "slideshow": {
     "slide_type": "slide"
    }
   },
   "outputs": [],
   "source": [
    "iplot(chartdict, link_text=\"\")"
   ]
  },
  {
   "cell_type": "code",
   "execution_count": null,
   "metadata": {
    "collapsed": false,
    "slideshow": {
     "slide_type": "-"
    }
   },
   "outputs": [],
   "source": [
    "chartdata.replace(to_replace=\"ACA APonix\", value=\"ACA Aponix\", inplace=True)\n",
    "chartdata.replace(to_replace=\"Aponix\", value=\"ACA Aponix\", inplace=True)\n",
    "\n",
    "chartdict = multicolumn_barchart(chartdata,\n",
    "                                 930, \n",
    "                                 8, \n",
    "                                 y_label=\"Count\",\n",
    "                                 #title=\"What company has your firm used for penetration tests<br />and other information security assessments?\"\n",
    "                                )"
   ]
  },
  {
   "cell_type": "code",
   "execution_count": null,
   "metadata": {
    "collapsed": false,
    "slideshow": {
     "slide_type": "slide"
    }
   },
   "outputs": [],
   "source": [
    "iplot(chartdict, link_text=\"\")"
   ]
  },
  {
   "cell_type": "code",
   "execution_count": null,
   "metadata": {
    "collapsed": true,
    "slideshow": {
     "slide_type": "-"
    }
   },
   "outputs": [],
   "source": [
    "chartdict = onecolumn_barchart(chartdata, \n",
    "                               938, \n",
    "                               x_label=\"\",\n",
    "                               y_label=\"Count\",\n",
    "                               #title=\"Are you actively reviewing vendor relationships<br />to reduce the  number of relationships?\"\n",
    "                              )"
   ]
  },
  {
   "cell_type": "code",
   "execution_count": null,
   "metadata": {
    "collapsed": false,
    "slideshow": {
     "slide_type": "slide"
    }
   },
   "outputs": [],
   "source": [
    "iplot(chartdict, link_text=\"\")"
   ]
  },
  {
   "cell_type": "code",
   "execution_count": null,
   "metadata": {
    "collapsed": true,
    "slideshow": {
     "slide_type": "-"
    }
   },
   "outputs": [],
   "source": [
    "chartdict = onecolumn_barchart(chartdata, \n",
    "                               939, \n",
    "                               x_label=\"\",\n",
    "                               y_label=\"Count\",\n",
    "                               title=\"If Yes, have you engaged insurance recovery attorneys<br />to review the policy language?\"\n",
    "                              )"
   ]
  },
  {
   "cell_type": "code",
   "execution_count": null,
   "metadata": {
    "collapsed": false,
    "slideshow": {
     "slide_type": "slide"
    }
   },
   "outputs": [],
   "source": [
    "iplot(chartdict, link_text=\"\")"
   ]
  },
  {
   "cell_type": "code",
   "execution_count": null,
   "metadata": {
    "collapsed": false,
    "slideshow": {
     "slide_type": "-"
    }
   },
   "outputs": [],
   "source": [
    "chartdata.replace(to_replace=\"Never hired one\", value=\"None\", inplace=True)\n",
    "chartdata.replace(to_replace=\"knowbe4\", value=\"KnowBe4\", inplace=True)\n",
    "chartdata.replace(to_replace=\"KnowB4\", value=\"KnowBe4\", inplace=True)\n",
    "chartdata.replace(to_replace=\"Knowbe4\", value=\"KnowBe4\", inplace=True)\n",
    "\n",
    "chartdict = multicolumn_barchart(chartdata,\n",
    "                                 940, \n",
    "                                 15, \n",
    "                                 y_label=\"Count\",\n",
    "                                 title=\"What firms have you used to conduct<br />Cyber Security best practice training?\"\n",
    "                                )"
   ]
  },
  {
   "cell_type": "code",
   "execution_count": null,
   "metadata": {
    "collapsed": false,
    "slideshow": {
     "slide_type": "slide"
    }
   },
   "outputs": [],
   "source": [
    "iplot(chartdict, link_text=\"\")"
   ]
  },
  {
   "cell_type": "code",
   "execution_count": null,
   "metadata": {
    "collapsed": true,
    "slideshow": {
     "slide_type": "-"
    }
   },
   "outputs": [],
   "source": [
    "chartdict = onecolumn_barchart(chartdata, \n",
    "                               955, \n",
    "                               x_label=\"\",\n",
    "                               y_label=\"Count\",\n",
    "                               #title=\"\"\n",
    "                              )"
   ]
  },
  {
   "cell_type": "code",
   "execution_count": null,
   "metadata": {
    "collapsed": false,
    "slideshow": {
     "slide_type": "slide"
    }
   },
   "outputs": [],
   "source": [
    "iplot(chartdict, link_text=\"\")"
   ]
  },
  {
   "cell_type": "code",
   "execution_count": null,
   "metadata": {
    "collapsed": true,
    "slideshow": {
     "slide_type": "-"
    }
   },
   "outputs": [],
   "source": [
    "chartdict = onecolumn_barchart(chartdata, \n",
    "                               956, \n",
    "                               x_label=\"\",\n",
    "                               y_label=\"Count\",\n",
    "                               #title=\"\"\n",
    "                              )"
   ]
  },
  {
   "cell_type": "code",
   "execution_count": null,
   "metadata": {
    "collapsed": false,
    "slideshow": {
     "slide_type": "slide"
    }
   },
   "outputs": [],
   "source": [
    "iplot(chartdict, link_text=\"\")"
   ]
  },
  {
   "cell_type": "code",
   "execution_count": null,
   "metadata": {
    "collapsed": true,
    "slideshow": {
     "slide_type": "-"
    }
   },
   "outputs": [],
   "source": [
    "chartdict = onecolumn_barchart(chartdata, \n",
    "                               957, \n",
    "                               x_label=\"\",\n",
    "                               y_label=\"Count\",\n",
    "                               #title=\"\"\n",
    "                              )"
   ]
  },
  {
   "cell_type": "code",
   "execution_count": null,
   "metadata": {
    "collapsed": false,
    "slideshow": {
     "slide_type": "slide"
    }
   },
   "outputs": [],
   "source": [
    "iplot(chartdict, link_text=\"\")"
   ]
  },
  {
   "cell_type": "code",
   "execution_count": null,
   "metadata": {
    "collapsed": false,
    "slideshow": {
     "slide_type": "-"
    }
   },
   "outputs": [],
   "source": [
    "#chartdata.replace(to_replace=\"In-house developed with outside counsel\", value=\"Internal\", inplace=True)\n",
    "chartdata.replace(to_replace=\"esentire\", value=\"eSentire\", inplace=True)\n",
    "chartdata.replace(to_replace=\"ESentire\", value=\"eSentire\", inplace=True)\n",
    "chartdata.replace(to_replace=\"Esentire\", value=\"eSentire\", inplace=True)\n",
    "\n",
    "chartdict = multicolumn_barchart(chartdata,\n",
    "                                 958, \n",
    "                                 11, \n",
    "                                 y_label=\"Count\",\n",
    "                                 title=\"What companies has your firm used to help construct<br />a BCP/Cybersecurity Incident Response Plan?\"\n",
    "                                )"
   ]
  },
  {
   "cell_type": "code",
   "execution_count": null,
   "metadata": {
    "collapsed": false,
    "slideshow": {
     "slide_type": "slide"
    }
   },
   "outputs": [],
   "source": [
    "iplot(chartdict, link_text=\"\")"
   ]
  },
  {
   "cell_type": "code",
   "execution_count": null,
   "metadata": {
    "collapsed": false,
    "slideshow": {
     "slide_type": "-"
    }
   },
   "outputs": [],
   "source": [
    "chartdata.replace(to_replace=\"EverBridge\", value=\"Everbridge\", inplace=True)\n",
    "chartdata.replace(to_replace=\"VMware AirWatch\", value=\"AirWatch\", inplace=True)\n",
    "chartdata.replace(to_replace=\"AirWatch MDM\", value=\"AirWatch\", inplace=True)\n",
    "chartdata.replace(to_replace=\"Airwatch\", value=\"AirWatch\", inplace=True)\n",
    "\n",
    "chartdict = multicolumn_barchart(chartdata,\n",
    "                                 969, \n",
    "                                 12, \n",
    "                                 y_label=\"Count\",\n",
    "                                 #title=\"What companies has your firm used to help construct<br />a BCP/Cybersecurity Incident Response Plan?\"\n",
    "                                )"
   ]
  },
  {
   "cell_type": "code",
   "execution_count": null,
   "metadata": {
    "collapsed": false,
    "slideshow": {
     "slide_type": "slide"
    }
   },
   "outputs": [],
   "source": [
    "iplot(chartdict, link_text=\"\")"
   ]
  },
  {
   "cell_type": "code",
   "execution_count": null,
   "metadata": {
    "collapsed": false,
    "slideshow": {
     "slide_type": "-"
    }
   },
   "outputs": [],
   "source": [
    "chartdict = multicolumn_barchart(chartdata,\n",
    "                                 981, \n",
    "                                 16, \n",
    "                                 y_label=\"Count\",\n",
    "                                 #title=\"What companies has your firm used to help construct<br />a BCP/Cybersecurity Incident Response Plan?\"\n",
    "                                )"
   ]
  },
  {
   "cell_type": "code",
   "execution_count": null,
   "metadata": {
    "collapsed": false,
    "slideshow": {
     "slide_type": "slide"
    }
   },
   "outputs": [],
   "source": [
    "iplot(chartdict, link_text=\"\")"
   ]
  },
  {
   "cell_type": "code",
   "execution_count": null,
   "metadata": {
    "collapsed": false,
    "slideshow": {
     "slide_type": "-"
    }
   },
   "outputs": [],
   "source": [
    "chartdict = multicolumn_barchart(chartdata,\n",
    "                                 997, \n",
    "                                 8, \n",
    "                                 y_label=\"Count\",\n",
    "                                 title='What is your policy on \"burner device\" laptops for overseas travel<br />to high-risk countries?',\n",
    "                                 othertext=False\n",
    "                                 )"
   ]
  },
  {
   "cell_type": "code",
   "execution_count": null,
   "metadata": {
    "collapsed": false,
    "scrolled": true,
    "slideshow": {
     "slide_type": "slide"
    }
   },
   "outputs": [],
   "source": [
    "iplot(chartdict, link_text=\"\")"
   ]
  },
  {
   "cell_type": "code",
   "execution_count": null,
   "metadata": {
    "collapsed": false,
    "slideshow": {
     "slide_type": "-"
    }
   },
   "outputs": [],
   "source": [
    "chartdict = multicolumn_barchart(chartdata,\n",
    "                                 1005, \n",
    "                                 9, \n",
    "                                 y_label=\"Count\",\n",
    "                                 title='What is your policy on \"burner device\" handheld devices<br />for overseas travel to high-risk countries?',\n",
    "                                 othertext=False\n",
    "                                 )"
   ]
  },
  {
   "cell_type": "code",
   "execution_count": null,
   "metadata": {
    "collapsed": false,
    "slideshow": {
     "slide_type": "slide"
    }
   },
   "outputs": [],
   "source": [
    "iplot(chartdict, link_text=\"\")"
   ]
  },
  {
   "cell_type": "code",
   "execution_count": null,
   "metadata": {
    "collapsed": false,
    "slideshow": {
     "slide_type": "-"
    }
   },
   "outputs": [],
   "source": [
    "chartdict = multicolumn_barchart(chartdata,\n",
    "                                 1014, \n",
    "                                 23, \n",
    "                                 y_label=\"Count\",\n",
    "                                 title=None\n",
    "                                 )"
   ]
  },
  {
   "cell_type": "code",
   "execution_count": null,
   "metadata": {
    "collapsed": false,
    "slideshow": {
     "slide_type": "slide"
    }
   },
   "outputs": [],
   "source": [
    "iplot(chartdict, link_text=\"\")"
   ]
  },
  {
   "cell_type": "code",
   "execution_count": null,
   "metadata": {
    "collapsed": true,
    "slideshow": {
     "slide_type": "-"
    }
   },
   "outputs": [],
   "source": [
    "chartdict = onecolumn_barchart(chartdata, \n",
    "                               1037, \n",
    "                               x_label=\"\",\n",
    "                               y_label=\"Count\",\n",
    "                               col_order=[\"Yes\",\"No\",\"No Answer\"]                               \n",
    "                               #title=\"\"\n",
    "                              )"
   ]
  },
  {
   "cell_type": "code",
   "execution_count": null,
   "metadata": {
    "collapsed": false,
    "slideshow": {
     "slide_type": "slide"
    }
   },
   "outputs": [],
   "source": [
    "iplot(chartdict, link_text=\"\")"
   ]
  },
  {
   "cell_type": "code",
   "execution_count": null,
   "metadata": {
    "collapsed": true,
    "slideshow": {
     "slide_type": "-"
    }
   },
   "outputs": [],
   "source": [
    "chartdict = onecolumn_barchart(chartdata, \n",
    "                               1038, \n",
    "                               x_label=\"\",\n",
    "                               y_label=\"Count\",\n",
    "                               col_order=[\"Yes\",\"No\",\"No Answer\"]                               \n",
    "                               #title=\"\"\n",
    "                              )"
   ]
  },
  {
   "cell_type": "code",
   "execution_count": null,
   "metadata": {
    "collapsed": false,
    "slideshow": {
     "slide_type": "slide"
    }
   },
   "outputs": [],
   "source": [
    "iplot(chartdict, link_text=\"\")"
   ]
  },
  {
   "cell_type": "code",
   "execution_count": null,
   "metadata": {
    "collapsed": true,
    "slideshow": {
     "slide_type": "-"
    }
   },
   "outputs": [],
   "source": [
    "chartdict = onecolumn_barchart(chartdata, \n",
    "                               1039, \n",
    "                               x_label=\"\",\n",
    "                               y_label=\"Count\",\n",
    "                               #title=\"\"\n",
    "                              )"
   ]
  },
  {
   "cell_type": "code",
   "execution_count": null,
   "metadata": {
    "collapsed": false,
    "slideshow": {
     "slide_type": "slide"
    }
   },
   "outputs": [],
   "source": [
    "iplot(chartdict, link_text=\"\")"
   ]
  },
  {
   "cell_type": "code",
   "execution_count": null,
   "metadata": {
    "collapsed": true,
    "slideshow": {
     "slide_type": "-"
    }
   },
   "outputs": [],
   "source": [
    "chartdict = onecolumn_barchart(chartdata, \n",
    "                               1040, \n",
    "                               x_label=\"\",\n",
    "                               y_label=\"Count\",\n",
    "                               col_order=[\"Yes\",\"No\",\"No Answer\"]                               \n",
    "                               #title=\"\"\n",
    "                              )"
   ]
  },
  {
   "cell_type": "code",
   "execution_count": null,
   "metadata": {
    "collapsed": false,
    "slideshow": {
     "slide_type": "slide"
    }
   },
   "outputs": [],
   "source": [
    "iplot(chartdict, link_text=\"\")"
   ]
  },
  {
   "cell_type": "markdown",
   "metadata": {
    "slideshow": {
     "slide_type": "slide"
    }
   },
   "source": [
    "# Infrastructure & Data Center"
   ]
  },
  {
   "cell_type": "code",
   "execution_count": null,
   "metadata": {
    "collapsed": true,
    "slideshow": {
     "slide_type": "-"
    }
   },
   "outputs": [],
   "source": [
    "chartdict = default_boxplot(chartdata, \n",
    "                            1041, \n",
    "                            2, \n",
    "                            \"\", \n",
    "                            \"Percentage\")"
   ]
  },
  {
   "cell_type": "code",
   "execution_count": null,
   "metadata": {
    "collapsed": false,
    "slideshow": {
     "slide_type": "slide"
    }
   },
   "outputs": [],
   "source": [
    "iplot(chartdict, link_text=\"\")"
   ]
  },
  {
   "cell_type": "code",
   "execution_count": null,
   "metadata": {
    "collapsed": true,
    "slideshow": {
     "slide_type": "-"
    }
   },
   "outputs": [],
   "source": [
    "chartdict = default_boxplot(chartdata, \n",
    "                            1043, \n",
    "                            4, \n",
    "                            \"\", \n",
    "                            \"Percentage\")\n"
   ]
  },
  {
   "cell_type": "code",
   "execution_count": null,
   "metadata": {
    "collapsed": false,
    "slideshow": {
     "slide_type": "slide"
    }
   },
   "outputs": [],
   "source": [
    "iplot(chartdict, link_text=\"\")"
   ]
  },
  {
   "cell_type": "code",
   "execution_count": null,
   "metadata": {
    "collapsed": true,
    "slideshow": {
     "slide_type": "-"
    }
   },
   "outputs": [],
   "source": [
    "chartdata.replace(to_replace=\"by end of year about 10%\", value=\"10\", inplace=True)\n",
    "\n",
    "chartdict = onecolumn_barchart(chartdata, \n",
    "                               1047, \n",
    "                               x_label=\"\",\n",
    "                               y_label=\"Percentage\",\n",
    "                               title=\"If applicable, what percentage of your virtual servers are in the cloud<br />(either private or public cloud)?\"\n",
    "                              )"
   ]
  },
  {
   "cell_type": "code",
   "execution_count": null,
   "metadata": {
    "collapsed": false,
    "slideshow": {
     "slide_type": "slide"
    }
   },
   "outputs": [],
   "source": [
    "iplot(chartdict, link_text=\"\")"
   ]
  },
  {
   "cell_type": "code",
   "execution_count": null,
   "metadata": {
    "collapsed": true,
    "slideshow": {
     "slide_type": "-"
    }
   },
   "outputs": [],
   "source": [
    "chartdict = default_boxplot(chartdata, \n",
    "                            1048, \n",
    "                            5, \n",
    "                            \"\", \n",
    "                            \"Percentage\",\n",
    "                           title=\"What percentage of your servers are in each of these groups?\")\n"
   ]
  },
  {
   "cell_type": "code",
   "execution_count": null,
   "metadata": {
    "collapsed": false,
    "slideshow": {
     "slide_type": "slide"
    }
   },
   "outputs": [],
   "source": [
    "iplot(chartdict, link_text=\"\")"
   ]
  },
  {
   "cell_type": "code",
   "execution_count": null,
   "metadata": {
    "collapsed": true,
    "slideshow": {
     "slide_type": "-"
    }
   },
   "outputs": [],
   "source": [
    "chartdict = default_boxplot(chartdata, \n",
    "                            1053, \n",
    "                            6, \n",
    "                            \"\", \n",
    "                            \"Percentage\",\n",
    "                           title=\"Percentage of VM's by vendor your firm has in use?\"\n",
    "                           )\n"
   ]
  },
  {
   "cell_type": "code",
   "execution_count": null,
   "metadata": {
    "collapsed": false,
    "slideshow": {
     "slide_type": "slide"
    }
   },
   "outputs": [],
   "source": [
    "iplot(chartdict, link_text=\"\")"
   ]
  },
  {
   "cell_type": "code",
   "execution_count": null,
   "metadata": {
    "collapsed": false,
    "slideshow": {
     "slide_type": "-"
    }
   },
   "outputs": [],
   "source": [
    "chartdict = multicolumn_barchart(chartdata,\n",
    "                                 1059, \n",
    "                                 7, \n",
    "                                 y_label=\"Count\",\n",
    "                                 \n",
    "                                 )"
   ]
  },
  {
   "cell_type": "code",
   "execution_count": null,
   "metadata": {
    "collapsed": false,
    "slideshow": {
     "slide_type": "slide"
    }
   },
   "outputs": [],
   "source": [
    "iplot(chartdict, link_text=\"\")"
   ]
  },
  {
   "cell_type": "code",
   "execution_count": null,
   "metadata": {
    "collapsed": false,
    "slideshow": {
     "slide_type": "-"
    }
   },
   "outputs": [],
   "source": [
    "chartdict = multicolumn_barchart(chartdata,\n",
    "                                 1066, \n",
    "                                 12, \n",
    "                                 y_label=\"Count\",\n",
    "                                 \n",
    "                                 )"
   ]
  },
  {
   "cell_type": "code",
   "execution_count": null,
   "metadata": {
    "collapsed": false,
    "slideshow": {
     "slide_type": "slide"
    }
   },
   "outputs": [],
   "source": [
    "iplot(chartdict, link_text=\"\")"
   ]
  },
  {
   "cell_type": "code",
   "execution_count": null,
   "metadata": {
    "collapsed": false,
    "slideshow": {
     "slide_type": "-"
    }
   },
   "outputs": [],
   "source": [
    "chartdict = multicolumn_barchart(chartdata,\n",
    "                                 1078, \n",
    "                                 21, \n",
    "                                 y_label=\"Count\",\n",
    "                                 \n",
    "                                 )"
   ]
  },
  {
   "cell_type": "code",
   "execution_count": null,
   "metadata": {
    "collapsed": false,
    "slideshow": {
     "slide_type": "slide"
    }
   },
   "outputs": [],
   "source": [
    "iplot(chartdict, link_text=\"\")"
   ]
  },
  {
   "cell_type": "code",
   "execution_count": null,
   "metadata": {
    "collapsed": false,
    "slideshow": {
     "slide_type": "-"
    }
   },
   "outputs": [],
   "source": [
    "chartdict = multicolumn_barchart(chartdata,\n",
    "                                 1099, \n",
    "                                 21, \n",
    "                                 y_label=\"Count\",\n",
    "                                 \n",
    "                                 )"
   ]
  },
  {
   "cell_type": "code",
   "execution_count": null,
   "metadata": {
    "collapsed": false,
    "slideshow": {
     "slide_type": "slide"
    }
   },
   "outputs": [],
   "source": [
    "iplot(chartdict, link_text=\"\")"
   ]
  },
  {
   "cell_type": "code",
   "execution_count": null,
   "metadata": {
    "collapsed": false,
    "slideshow": {
     "slide_type": "-"
    }
   },
   "outputs": [],
   "source": [
    "chartdict = multicolumn_barchart(chartdata,\n",
    "                                 1120, \n",
    "                                 13, \n",
    "                                 y_label=\"Count\",\n",
    "                                 \n",
    "                                 )"
   ]
  },
  {
   "cell_type": "code",
   "execution_count": null,
   "metadata": {
    "collapsed": false,
    "slideshow": {
     "slide_type": "slide"
    }
   },
   "outputs": [],
   "source": [
    "iplot(chartdict, link_text=\"\")"
   ]
  },
  {
   "cell_type": "code",
   "execution_count": null,
   "metadata": {
    "collapsed": false,
    "slideshow": {
     "slide_type": "-"
    }
   },
   "outputs": [],
   "source": [
    "chartdict = multicolumn_barchart(chartdata,\n",
    "                                 1133, \n",
    "                                 7, \n",
    "                                 y_label=\"Count\",\n",
    "                                 \n",
    "                                 )"
   ]
  },
  {
   "cell_type": "code",
   "execution_count": null,
   "metadata": {
    "collapsed": false,
    "slideshow": {
     "slide_type": "slide"
    }
   },
   "outputs": [],
   "source": [
    "iplot(chartdict, link_text=\"\")"
   ]
  },
  {
   "cell_type": "code",
   "execution_count": null,
   "metadata": {
    "collapsed": true,
    "slideshow": {
     "slide_type": "-"
    }
   },
   "outputs": [],
   "source": [
    "chartdata.replace(to_replace=\"0 currently onboarding\", value=\"0\", inplace=True)\n",
    "\n",
    "chartdict = onecolumn_barchart(chartdata, \n",
    "                               1047, \n",
    "                               x_label=\"\",\n",
    "                               y_label=\"Percentage\",\n",
    "                               title=\"What Percentage of your end-user workstations are VDI?\"\n",
    "                              )"
   ]
  },
  {
   "cell_type": "code",
   "execution_count": null,
   "metadata": {
    "collapsed": false,
    "slideshow": {
     "slide_type": "slide"
    }
   },
   "outputs": [],
   "source": [
    "iplot(chartdict, link_text=\"\")"
   ]
  },
  {
   "cell_type": "code",
   "execution_count": null,
   "metadata": {
    "collapsed": false,
    "slideshow": {
     "slide_type": "-"
    }
   },
   "outputs": [],
   "source": [
    "chartdict = multicolumn_barchart(chartdata,\n",
    "                                 1141, \n",
    "                                 11, \n",
    "                                 y_label=\"Count\",\n",
    "                                 \n",
    "                                 )"
   ]
  },
  {
   "cell_type": "code",
   "execution_count": null,
   "metadata": {
    "collapsed": false,
    "slideshow": {
     "slide_type": "slide"
    }
   },
   "outputs": [],
   "source": [
    "iplot(chartdict, link_text=\"\")"
   ]
  },
  {
   "cell_type": "code",
   "execution_count": null,
   "metadata": {
    "collapsed": false,
    "slideshow": {
     "slide_type": "-"
    }
   },
   "outputs": [],
   "source": [
    "chartdata.replace(to_replace=\"CyrusOne (formerly Cervalis)\", value=\"Cervalis\", inplace=True)\n",
    "\n",
    "chartdict = multicolumn_barchart(chartdata,\n",
    "                                 1152, \n",
    "                                 21, \n",
    "                                 y_label=\"Count\",\n",
    "                                 x_label_size = 11\n",
    "                                 )"
   ]
  },
  {
   "cell_type": "code",
   "execution_count": null,
   "metadata": {
    "collapsed": false,
    "slideshow": {
     "slide_type": "slide"
    }
   },
   "outputs": [],
   "source": [
    "iplot(chartdict, link_text=\"\")"
   ]
  },
  {
   "cell_type": "markdown",
   "metadata": {
    "slideshow": {
     "slide_type": "slide"
    }
   },
   "source": [
    "# Systems\n"
   ]
  },
  {
   "cell_type": "code",
   "execution_count": null,
   "metadata": {
    "collapsed": true,
    "slideshow": {
     "slide_type": "-"
    }
   },
   "outputs": [],
   "source": [
    "chartdict = chartdict = default_boxplot(chartdata, \n",
    "                            1173, \n",
    "                            7, \n",
    "                            \"\", \n",
    "                            \"Percentage\")"
   ]
  },
  {
   "cell_type": "code",
   "execution_count": null,
   "metadata": {
    "collapsed": false,
    "slideshow": {
     "slide_type": "slide"
    }
   },
   "outputs": [],
   "source": [
    "iplot(chartdict, link_text=\"\")"
   ]
  },
  {
   "cell_type": "code",
   "execution_count": null,
   "metadata": {
    "collapsed": true,
    "slideshow": {
     "slide_type": "-"
    }
   },
   "outputs": [],
   "source": [
    "chartdict = onecolumn_barchart(chartdata, \n",
    "                               1180, \n",
    "                               x_label=\"\",\n",
    "                               y_label=\"Count\",\n",
    "                               title=None,\n",
    "                               col_order=['Already have','1 year','2 years','>2 years','No Answer',\"N/A (We Don't use Windows)\",]\n",
    "                                          )\n"
   ]
  },
  {
   "cell_type": "code",
   "execution_count": null,
   "metadata": {
    "collapsed": false,
    "slideshow": {
     "slide_type": "slide"
    }
   },
   "outputs": [],
   "source": [
    "iplot(chartdict, link_text=\"\")"
   ]
  },
  {
   "cell_type": "code",
   "execution_count": null,
   "metadata": {
    "collapsed": true,
    "slideshow": {
     "slide_type": "-"
    }
   },
   "outputs": [],
   "source": [
    "chartdict = chartdict = default_boxplot(chartdata, \n",
    "                            1181, \n",
    "                            7, \n",
    "                            \"\", \n",
    "                            \"Percentage\")"
   ]
  },
  {
   "cell_type": "code",
   "execution_count": null,
   "metadata": {
    "collapsed": false,
    "slideshow": {
     "slide_type": "slide"
    }
   },
   "outputs": [],
   "source": [
    "iplot(chartdict, link_text=\"\")"
   ]
  },
  {
   "cell_type": "code",
   "execution_count": null,
   "metadata": {
    "collapsed": true,
    "slideshow": {
     "slide_type": "-"
    }
   },
   "outputs": [],
   "source": [
    "chartdict = onecolumn_barchart(chartdata, \n",
    "                               1188, \n",
    "                               x_label=\"\",\n",
    "                               y_label=\"Count\",\n",
    "                               title=None,\n",
    "                              col_order=['Already have','1 year','2 years','>2 years','Never','No Answer',])\n"
   ]
  },
  {
   "cell_type": "code",
   "execution_count": null,
   "metadata": {
    "collapsed": false,
    "slideshow": {
     "slide_type": "slide"
    }
   },
   "outputs": [],
   "source": [
    "iplot(chartdict, link_text=\"\")"
   ]
  },
  {
   "cell_type": "code",
   "execution_count": null,
   "metadata": {
    "collapsed": true,
    "slideshow": {
     "slide_type": "-"
    }
   },
   "outputs": [],
   "source": [
    "chartdict = chartdict = default_boxplot(chartdata, \n",
    "                            1189, \n",
    "                            13, \n",
    "                            \"\", \n",
    "                            \"Percentage\")\n"
   ]
  },
  {
   "cell_type": "code",
   "execution_count": null,
   "metadata": {
    "collapsed": false,
    "slideshow": {
     "slide_type": "slide"
    }
   },
   "outputs": [],
   "source": [
    "iplot(chartdict, link_text=\"\")"
   ]
  },
  {
   "cell_type": "code",
   "execution_count": null,
   "metadata": {
    "collapsed": false,
    "slideshow": {
     "slide_type": "-"
    }
   },
   "outputs": [],
   "source": [
    "chartdata.replace(to_replace=\"microsoft\", value=\"Microsoft\", inplace=True)\n",
    "chartdata.replace(to_replace=\"spiceworks\", value=\"SpiceWorks\", inplace=True)\n",
    "chartdata.replace(to_replace=\"Spiceworks\", value=\"SpiceWorks\", inplace=True)\n",
    "\n",
    "chartdict = multicolumn_barchart(chartdata,\n",
    "                                 1202, \n",
    "                                 13, \n",
    "                                 y_label=\"Count\",\n",
    "                                 \n",
    "                                 )"
   ]
  },
  {
   "cell_type": "code",
   "execution_count": null,
   "metadata": {
    "collapsed": false,
    "slideshow": {
     "slide_type": "slide"
    }
   },
   "outputs": [],
   "source": [
    "iplot(chartdict, link_text=\"\")"
   ]
  },
  {
   "cell_type": "code",
   "execution_count": null,
   "metadata": {
    "collapsed": false,
    "slideshow": {
     "slide_type": "-"
    }
   },
   "outputs": [],
   "source": [
    "chartdata.replace(to_replace=\"Kace\", value=\"Dell Kace\", inplace=True)\n",
    "chartdata.replace(to_replace=\"DELL KACE\", value=\"Dell Kace\", inplace=True)\n",
    "chartdata.replace(to_replace=\"secunia\", value=\"Secunia\", inplace=True)\n",
    "chartdata.replace(to_replace=\"shavlik\", value=\"Shavlik\", inplace=True)\n",
    "chartdata.replace(to_replace=\"SCCM (successor to wsus?)\", value=\"SCCM\", inplace=True)\n",
    "\n",
    "\n",
    "\n",
    "chartdict = multicolumn_barchart(chartdata,\n",
    "                                 1215, \n",
    "                                 9, \n",
    "                                 y_label=\"Count\",\n",
    "                                 \n",
    "                                 )"
   ]
  },
  {
   "cell_type": "code",
   "execution_count": null,
   "metadata": {
    "collapsed": false,
    "slideshow": {
     "slide_type": "slide"
    }
   },
   "outputs": [],
   "source": [
    "iplot(chartdict, link_text=\"\")"
   ]
  },
  {
   "cell_type": "code",
   "execution_count": null,
   "metadata": {
    "collapsed": false,
    "slideshow": {
     "slide_type": "-"
    }
   },
   "outputs": [],
   "source": [
    "chartdata.replace(to_replace=\"Proprietary built sofware\", value=\"Proprietary\", inplace=True)\n",
    "chartdata.replace(to_replace=\"proprietary\", value=\"Proprietary\", inplace=True)\n",
    "\n",
    "chartdict = multicolumn_barchart(chartdata,\n",
    "                                 1224, \n",
    "                                 8, \n",
    "                                 y_label=\"Count\",\n",
    "                                 \n",
    "                                 )"
   ]
  },
  {
   "cell_type": "code",
   "execution_count": null,
   "metadata": {
    "collapsed": false,
    "slideshow": {
     "slide_type": "slide"
    }
   },
   "outputs": [],
   "source": [
    "iplot(chartdict, link_text=\"\")"
   ]
  },
  {
   "cell_type": "code",
   "execution_count": null,
   "metadata": {
    "collapsed": false,
    "slideshow": {
     "slide_type": "-"
    }
   },
   "outputs": [],
   "source": [
    "chartdict = multicolumn_barchart(chartdata,\n",
    "                                 1232, \n",
    "                                 18, \n",
    "                                 y_label=\"Count\",\n",
    "                                 \n",
    "                                 )"
   ]
  },
  {
   "cell_type": "code",
   "execution_count": null,
   "metadata": {
    "collapsed": false,
    "slideshow": {
     "slide_type": "slide"
    }
   },
   "outputs": [],
   "source": [
    "iplot(chartdict, link_text=\"\")"
   ]
  },
  {
   "cell_type": "code",
   "execution_count": null,
   "metadata": {
    "collapsed": false,
    "slideshow": {
     "slide_type": "-"
    }
   },
   "outputs": [],
   "source": [
    "chartdata.replace(to_replace=\"Sharepoint\", value=\"SharePoint\", inplace=True)\n",
    "chartdata.replace(to_replace=\"MSFT Sharepoint\", value=\"SharePoint\", inplace=True)\n",
    "\n",
    "chartdict = multicolumn_barchart(chartdata,\n",
    "                                 1250, \n",
    "                                 15, \n",
    "                                 y_label=\"Count\",\n",
    "                                 \n",
    "                                 )"
   ]
  },
  {
   "cell_type": "code",
   "execution_count": null,
   "metadata": {
    "collapsed": false,
    "slideshow": {
     "slide_type": "slide"
    }
   },
   "outputs": [],
   "source": [
    "iplot(chartdict, link_text=\"\")"
   ]
  },
  {
   "cell_type": "code",
   "execution_count": null,
   "metadata": {
    "collapsed": false,
    "slideshow": {
     "slide_type": "-"
    }
   },
   "outputs": [],
   "source": [
    "chartdata.replace(to_replace=\"LifeSize\", value=\"Lifesize\", inplace=True)\n",
    "chartdata.replace(to_replace=\"lifesize\", value=\"Lifesize\", inplace=True)\n",
    "\n",
    "chartdict = multicolumn_barchart(chartdata,\n",
    "                                 1265, \n",
    "                                 10, \n",
    "                                 y_label=\"Count\",\n",
    "                                 \n",
    "                                 )"
   ]
  },
  {
   "cell_type": "code",
   "execution_count": null,
   "metadata": {
    "collapsed": false,
    "slideshow": {
     "slide_type": "slide"
    }
   },
   "outputs": [],
   "source": [
    "iplot(chartdict, link_text=\"\")"
   ]
  },
  {
   "cell_type": "code",
   "execution_count": null,
   "metadata": {
    "collapsed": false,
    "slideshow": {
     "slide_type": "-"
    }
   },
   "outputs": [],
   "source": [
    "chartdata.replace(to_replace=\"Commvault\", value=\"CommVault\", inplace=True)\n",
    "chartdata.replace(to_replace=\"Asigra (managed backups)\", value=\"Asigra\", inplace=True)\n",
    "\n",
    "chartdict = multicolumn_barchart(chartdata,\n",
    "                                 1275, \n",
    "                                 20, \n",
    "                                 y_label=\"Count\",\n",
    "                                 x_label_size=11\n",
    "                                 )"
   ]
  },
  {
   "cell_type": "code",
   "execution_count": null,
   "metadata": {
    "collapsed": false,
    "slideshow": {
     "slide_type": "slide"
    }
   },
   "outputs": [],
   "source": [
    "iplot(chartdict, link_text=\"\")"
   ]
  },
  {
   "cell_type": "code",
   "execution_count": null,
   "metadata": {
    "collapsed": false,
    "slideshow": {
     "slide_type": "-"
    }
   },
   "outputs": [],
   "source": [
    "chartdata.replace(to_replace=\"n/a\", value=\"None\", inplace=True)\n",
    "chartdict = multicolumn_barchart(chartdata,\n",
    "                                 1295, \n",
    "                                 11, \n",
    "                                 y_label=\"Count\",\n",
    "                                 \n",
    "                                 )"
   ]
  },
  {
   "cell_type": "code",
   "execution_count": null,
   "metadata": {
    "collapsed": false,
    "slideshow": {
     "slide_type": "slide"
    }
   },
   "outputs": [],
   "source": [
    "iplot(chartdict, link_text=\"\")"
   ]
  },
  {
   "cell_type": "code",
   "execution_count": null,
   "metadata": {
    "collapsed": false,
    "slideshow": {
     "slide_type": "-"
    }
   },
   "outputs": [],
   "source": [
    "chartdict = multicolumn_barchart(chartdata,\n",
    "                                 1306, \n",
    "                                 6, \n",
    "                                 y_label=\"Count\",\n",
    "                                 \n",
    "                                 )"
   ]
  },
  {
   "cell_type": "code",
   "execution_count": null,
   "metadata": {
    "collapsed": false,
    "slideshow": {
     "slide_type": "slide"
    }
   },
   "outputs": [],
   "source": [
    "iplot(chartdict, link_text=\"\")"
   ]
  },
  {
   "cell_type": "code",
   "execution_count": null,
   "metadata": {
    "collapsed": false,
    "slideshow": {
     "slide_type": "-"
    }
   },
   "outputs": [],
   "source": [
    "chartdict = multicolumn_barchart(chartdata,\n",
    "                                 1312, \n",
    "                                 14, \n",
    "                                 y_label=\"Count\",\n",
    "                                 \n",
    "                                 )"
   ]
  },
  {
   "cell_type": "code",
   "execution_count": null,
   "metadata": {
    "collapsed": false,
    "slideshow": {
     "slide_type": "slide"
    }
   },
   "outputs": [],
   "source": [
    "iplot(chartdict, link_text=\"\")"
   ]
  },
  {
   "cell_type": "code",
   "execution_count": null,
   "metadata": {
    "collapsed": true,
    "slideshow": {
     "slide_type": "-"
    }
   },
   "outputs": [],
   "source": [
    "chartdict = onecolumn_barchart(chartdata, \n",
    "                               1326, \n",
    "                               x_label=\"\",\n",
    "                               y_label=\"Count\",\n",
    "                               title=None)\n"
   ]
  },
  {
   "cell_type": "code",
   "execution_count": null,
   "metadata": {
    "collapsed": false,
    "slideshow": {
     "slide_type": "slide"
    }
   },
   "outputs": [],
   "source": [
    "iplot(chartdict, link_text=\"\")"
   ]
  },
  {
   "cell_type": "code",
   "execution_count": null,
   "metadata": {
    "collapsed": false,
    "slideshow": {
     "slide_type": "-"
    }
   },
   "outputs": [],
   "source": [
    "chartdict = multicolumn_barchart(chartdata,\n",
    "                                 1327, \n",
    "                                 4, \n",
    "                                 y_label=\"Count\",\n",
    "                                 \n",
    "                                 )"
   ]
  },
  {
   "cell_type": "code",
   "execution_count": null,
   "metadata": {
    "collapsed": false,
    "slideshow": {
     "slide_type": "slide"
    }
   },
   "outputs": [],
   "source": [
    "iplot(chartdict, link_text=\"\")"
   ]
  },
  {
   "cell_type": "code",
   "execution_count": null,
   "metadata": {
    "collapsed": true,
    "slideshow": {
     "slide_type": "-"
    }
   },
   "outputs": [],
   "source": [
    "chartdict = twocolumn_barchart(chartdata, 1331, y_label=\"Count\", title=\"Where is your primary file storage?\")\n"
   ]
  },
  {
   "cell_type": "code",
   "execution_count": null,
   "metadata": {
    "collapsed": false,
    "slideshow": {
     "slide_type": "slide"
    }
   },
   "outputs": [],
   "source": [
    "iplot(chartdict, link_text=\"\")"
   ]
  },
  {
   "cell_type": "code",
   "execution_count": null,
   "metadata": {
    "collapsed": false,
    "slideshow": {
     "slide_type": "-"
    }
   },
   "outputs": [],
   "source": [
    "chartdict = multicolumn_barchart(chartdata,\n",
    "                                 1333, \n",
    "                                 16, \n",
    "                                 y_label=\"Count\",\n",
    "                                 title=\"What remote file access solutions do you provide<br />(ex. iPad sync or Laptop sync)?\"\n",
    "                                 \n",
    "                                 )"
   ]
  },
  {
   "cell_type": "code",
   "execution_count": null,
   "metadata": {
    "collapsed": false,
    "slideshow": {
     "slide_type": "slide"
    }
   },
   "outputs": [],
   "source": [
    "iplot(chartdict, link_text=\"\")"
   ]
  },
  {
   "cell_type": "code",
   "execution_count": null,
   "metadata": {
    "collapsed": true,
    "slideshow": {
     "slide_type": "-"
    }
   },
   "outputs": [],
   "source": [
    "chartdict = onecolumn_barchart(chartdata, \n",
    "                               1349, \n",
    "                               x_label=\"\",\n",
    "                               y_label=\"Count\",\n",
    "                               title=None)\n"
   ]
  },
  {
   "cell_type": "code",
   "execution_count": null,
   "metadata": {
    "collapsed": false,
    "slideshow": {
     "slide_type": "slide"
    }
   },
   "outputs": [],
   "source": [
    "iplot(chartdict, link_text=\"\")"
   ]
  },
  {
   "cell_type": "code",
   "execution_count": null,
   "metadata": {
    "collapsed": false,
    "slideshow": {
     "slide_type": "-"
    }
   },
   "outputs": [],
   "source": [
    "chartdata.replace(to_replace=\"Gmail\", value=\"Google\", inplace=True)\n",
    "chartdata.replace(to_replace=\"Abacus hosted Exchange\", value=\"Abacus\", inplace=True)\n",
    "chartdict = multicolumn_barchart(chartdata,\n",
    "                                 1350, \n",
    "                                 9, \n",
    "                                 y_label=\"Count\",\n",
    "                                 \n",
    "                                 )"
   ]
  },
  {
   "cell_type": "code",
   "execution_count": null,
   "metadata": {
    "collapsed": false,
    "slideshow": {
     "slide_type": "slide"
    }
   },
   "outputs": [],
   "source": [
    "iplot(chartdict, link_text=\"\")"
   ]
  },
  {
   "cell_type": "code",
   "execution_count": null,
   "metadata": {
    "collapsed": true,
    "slideshow": {
     "slide_type": "-"
    }
   },
   "outputs": [],
   "source": [
    "chartdict = onecolumn_barchart(chartdata, \n",
    "                               1359, \n",
    "                               x_label=\"\",\n",
    "                               y_label=\"Count\",\n",
    "                               title=None)\n"
   ]
  },
  {
   "cell_type": "code",
   "execution_count": null,
   "metadata": {
    "collapsed": false,
    "slideshow": {
     "slide_type": "slide"
    }
   },
   "outputs": [],
   "source": [
    "iplot(chartdict, link_text=\"\")"
   ]
  },
  {
   "cell_type": "code",
   "execution_count": null,
   "metadata": {
    "collapsed": false,
    "slideshow": {
     "slide_type": "-"
    }
   },
   "outputs": [],
   "source": [
    "chartdict = multicolumn_barchart(chartdata,\n",
    "                                 1360, \n",
    "                                 13, \n",
    "                                 y_label=\"Count\",\n",
    "                                 \n",
    "                                 )"
   ]
  },
  {
   "cell_type": "code",
   "execution_count": null,
   "metadata": {
    "collapsed": false,
    "slideshow": {
     "slide_type": "slide"
    }
   },
   "outputs": [],
   "source": [
    "iplot(chartdict, link_text=\"\")"
   ]
  },
  {
   "cell_type": "code",
   "execution_count": null,
   "metadata": {
    "collapsed": false,
    "slideshow": {
     "slide_type": "-"
    }
   },
   "outputs": [],
   "source": [
    "chartdata.replace(to_replace=\"MediaTemple\", value=\"Media Temple\", inplace=True)\n",
    "chartdata.replace(to_replace=\"Mediatemple \", value=\"Media Temple\", inplace=True)\n",
    "chartdata.replace(to_replace=\"Ovis Technologies\", value=\"Ovis\", inplace=True)\n",
    "\n",
    "chartdict = multicolumn_barchart(chartdata,\n",
    "                                 1373, \n",
    "                                 16, \n",
    "                                 y_label=\"Count\",\n",
    "                                 \n",
    "                                 )"
   ]
  },
  {
   "cell_type": "code",
   "execution_count": null,
   "metadata": {
    "collapsed": false,
    "slideshow": {
     "slide_type": "slide"
    }
   },
   "outputs": [],
   "source": [
    "iplot(chartdict, link_text=\"\")"
   ]
  },
  {
   "cell_type": "markdown",
   "metadata": {
    "slideshow": {
     "slide_type": "slide"
    }
   },
   "source": [
    "# Cloud"
   ]
  },
  {
   "cell_type": "code",
   "execution_count": null,
   "metadata": {
    "collapsed": true,
    "slideshow": {
     "slide_type": "-"
    }
   },
   "outputs": [],
   "source": [
    "chartdict = onecolumn_barchart(chartdata, \n",
    "                               1389, \n",
    "                               x_label=\"\",\n",
    "                               y_label=\"Count\",\n",
    "                               title=None)\n"
   ]
  },
  {
   "cell_type": "code",
   "execution_count": null,
   "metadata": {
    "collapsed": false,
    "slideshow": {
     "slide_type": "slide"
    }
   },
   "outputs": [],
   "source": [
    "iplot(chartdict, link_text=\"\")"
   ]
  },
  {
   "cell_type": "code",
   "execution_count": null,
   "metadata": {
    "collapsed": false,
    "slideshow": {
     "slide_type": "-"
    }
   },
   "outputs": [],
   "source": [
    "chartdict = multicolumn_barchart(chartdata,\n",
    "                                 1390, \n",
    "                                 12, \n",
    "                                 y_label=\"Count\",\n",
    "                                 othertext = False,\n",
    "                                 \n",
    "                                 )"
   ]
  },
  {
   "cell_type": "code",
   "execution_count": null,
   "metadata": {
    "collapsed": false,
    "slideshow": {
     "slide_type": "slide"
    }
   },
   "outputs": [],
   "source": [
    "iplot(chartdict, link_text=\"\")"
   ]
  },
  {
   "cell_type": "code",
   "execution_count": null,
   "metadata": {
    "collapsed": false,
    "slideshow": {
     "slide_type": "-"
    }
   },
   "outputs": [],
   "source": [
    "question_cols = range(1402,1409)\n",
    "colnames = chartdata.columns[question_cols]\n",
    "question_name = \"What is your primary business driver to moving towards cloud? (Ranked)\"\n",
    "\n",
    "chartframe = chartdata[colnames]\n",
    "variables = [mystr[len(\"What is your primary business driver to moving towards cloud? - \"):] for mystr in colnames]\n",
    "\n",
    "chartframe.columns= variables\n",
    "meltframe = pd.melt(chartframe, value_vars=variables)\n",
    "meltframe = meltframe.dropna(axis=0)\n",
    "\n",
    "v1frame = meltframe.loc[meltframe[\"value\"] == 1.0]\n",
    "c1frame = pd.DataFrame(v1frame[\"variable\"].value_counts())\n",
    "c1frame.columns = [\"1\"]\n",
    "\n",
    "v2frame = meltframe.loc[meltframe[\"value\"] == 2.0]\n",
    "c2frame = pd.DataFrame(v2frame[\"variable\"].value_counts())\n",
    "c2frame.columns = [\"2\"]\n",
    "chartframe = pd.concat([c1frame, c2frame], axis=1, join_axes=[c1frame.index])    \n",
    "\n",
    "v3frame = meltframe.loc[meltframe[\"value\"] == 3.0]\n",
    "c3frame = pd.DataFrame(v3frame[\"variable\"].value_counts())\n",
    "c3frame.columns = [\"3\"]\n",
    "chartframe = pd.concat([chartframe, c3frame], axis=1, join_axes=[chartframe.index])    \n",
    "\n",
    "v4frame = meltframe.loc[meltframe[\"value\"] == 4.0]\n",
    "c4frame = pd.DataFrame(v4frame[\"variable\"].value_counts())\n",
    "c4frame.columns = [\"4\"]\n",
    "chartframe = pd.concat([chartframe, c4frame], axis=1, join_axes=[chartframe.index])    \n",
    "\n",
    "v5frame = meltframe.loc[meltframe[\"value\"] == 5.0]\n",
    "c5frame = pd.DataFrame(v5frame[\"variable\"].value_counts())\n",
    "c5frame.columns = [\"5\"]\n",
    "chartframe = pd.concat([chartframe, c5frame], axis=1, join_axes=[chartframe.index])    \n",
    "\n",
    "v6frame = meltframe.loc[meltframe[\"value\"] == 6.0]\n",
    "c6frame = pd.DataFrame(v6frame[\"variable\"].value_counts())\n",
    "c6frame.columns = [\"6\"]\n",
    "chartframe = pd.concat([chartframe, c6frame], axis=1, join_axes=[chartframe.index])    \n",
    "\n",
    "v7frame = meltframe.loc[meltframe[\"value\"] == 7.0]\n",
    "c7frame = pd.DataFrame(v7frame[\"variable\"].value_counts())\n",
    "c7frame.columns = [\"7\"]\n",
    "chartframe = pd.concat([chartframe, c7frame], axis=1, join_axes=[chartframe.index])    \n",
    "\n",
    "chartframe = chartframe.fillna(value=0.0)\n",
    "#v1count = v1frame.value_counts()\n",
    "\n",
    "# sort in this order\n",
    "col_order = [u'DR / BCP',\n",
    "              u'IT Agility (time to mkt, portability, resource elasticity etc..)',\n",
    "              u'Cost savings (initial, TCO, pay for what you use, etc..)',\n",
    "              u'Innovation',\n",
    "              u'Better enable mobile workforce',\n",
    "              u'Move from Capex to Opex model',\n",
    "              u'Critical partner forcing the move']\n",
    "order_dict = dict(zip(col_order, range(len(col_order))))\n",
    "chartframe[\"order\"] = [order_dict[v] for v in chartframe.index.values]\n",
    "chartframe = chartframe.sort_values(\"order\")\n",
    "del chartframe[\"order\"]\n",
    "\n",
    "# replace indexes like this\n",
    "col_short = [u'DR / BCP',\n",
    "             u'IT Agility',\n",
    "             u'Cost savings',\n",
    "             u'Innovation',\n",
    "             u'Better enable mobile workforce',\n",
    "             u'Move from Capex to Opex model',\n",
    "             u'Critical partner forcing the move']\n",
    "chartframe[\"shortindex\"] = col_short\n",
    "chartframe = chartframe.set_index(keys='shortindex')\n",
    "\n",
    "chartdict = aitec_barstack(chartframe, question_name, \"\", \"Count\")\n"
   ]
  },
  {
   "cell_type": "code",
   "execution_count": null,
   "metadata": {
    "collapsed": false,
    "slideshow": {
     "slide_type": "slide"
    }
   },
   "outputs": [],
   "source": [
    "iplot(chartdict, link_text=\"\")"
   ]
  },
  {
   "cell_type": "code",
   "execution_count": null,
   "metadata": {
    "collapsed": true,
    "slideshow": {
     "slide_type": "-"
    }
   },
   "outputs": [],
   "source": [
    "chartdict = twocolumn_barchart(chartdata, 1409, y_label=\"Count\")\n"
   ]
  },
  {
   "cell_type": "code",
   "execution_count": null,
   "metadata": {
    "collapsed": false,
    "slideshow": {
     "slide_type": "slide"
    }
   },
   "outputs": [],
   "source": [
    "iplot(chartdict, link_text=\"\")"
   ]
  },
  {
   "cell_type": "code",
   "execution_count": null,
   "metadata": {
    "collapsed": false,
    "slideshow": {
     "slide_type": "-"
    }
   },
   "outputs": [],
   "source": [
    "chartdict = multicolumn_barchart(chartdata,\n",
    "                                 1411, \n",
    "                                 8, \n",
    "                                 y_label=\"Count\",\n",
    "                                 othertext = False,\n",
    "                                 \n",
    "                                 )"
   ]
  },
  {
   "cell_type": "code",
   "execution_count": null,
   "metadata": {
    "collapsed": false,
    "slideshow": {
     "slide_type": "slide"
    }
   },
   "outputs": [],
   "source": [
    "iplot(chartdict, link_text=\"\")"
   ]
  },
  {
   "cell_type": "markdown",
   "metadata": {
    "slideshow": {
     "slide_type": "slide"
    }
   },
   "source": [
    "# Telecommunications & Network"
   ]
  },
  {
   "cell_type": "code",
   "execution_count": null,
   "metadata": {
    "collapsed": false,
    "slideshow": {
     "slide_type": "-"
    }
   },
   "outputs": [],
   "source": [
    "chartdict = multicolumn_barchart(chartdata,\n",
    "                                 1419, \n",
    "                                 11, \n",
    "                                 y_label=\"Count\",\n",
    "                                 othertext = False,\n",
    "                                 \n",
    "                                 )"
   ]
  },
  {
   "cell_type": "code",
   "execution_count": null,
   "metadata": {
    "collapsed": false,
    "slideshow": {
     "slide_type": "slide"
    }
   },
   "outputs": [],
   "source": [
    "iplot(chartdict, link_text=\"\")"
   ]
  },
  {
   "cell_type": "code",
   "execution_count": null,
   "metadata": {
    "collapsed": true,
    "slideshow": {
     "slide_type": "-"
    }
   },
   "outputs": [],
   "source": [
    "chartdata.replace(to_replace=\"aerohive\", value=\"Aerohive\", inplace=True)\n",
    "chartdict = twocolumn_barchart(chartdata, 1430, y_label=\"Count\")\n"
   ]
  },
  {
   "cell_type": "code",
   "execution_count": null,
   "metadata": {
    "collapsed": false,
    "slideshow": {
     "slide_type": "slide"
    }
   },
   "outputs": [],
   "source": [
    "iplot(chartdict, link_text=\"\")"
   ]
  },
  {
   "cell_type": "code",
   "execution_count": null,
   "metadata": {
    "collapsed": false,
    "slideshow": {
     "slide_type": "-"
    }
   },
   "outputs": [],
   "source": [
    "chartdata.replace(to_replace=\"gtt\", value=\"GTT\", inplace=True)\n",
    "\n",
    "chartdict = multicolumn_barchart(chartdata,\n",
    "                                 1432, \n",
    "                                 32, \n",
    "                                 y_label=\"Count\",\n",
    "                                 othertext = True,\n",
    "                                 x_label_size=11\n",
    "                                 )"
   ]
  },
  {
   "cell_type": "code",
   "execution_count": null,
   "metadata": {
    "collapsed": false,
    "slideshow": {
     "slide_type": "slide"
    }
   },
   "outputs": [],
   "source": [
    "iplot(chartdict, link_text=\"\")"
   ]
  },
  {
   "cell_type": "code",
   "execution_count": null,
   "metadata": {
    "collapsed": false,
    "slideshow": {
     "slide_type": "-"
    }
   },
   "outputs": [],
   "source": [
    "chartdict = multicolumn_barchart(chartdata,\n",
    "                                 1464, \n",
    "                                 18, \n",
    "                                 y_label=\"Count\",\n",
    "                                 othertext = True,\n",
    "                                 \n",
    "                                 )"
   ]
  },
  {
   "cell_type": "code",
   "execution_count": null,
   "metadata": {
    "collapsed": false,
    "slideshow": {
     "slide_type": "slide"
    }
   },
   "outputs": [],
   "source": [
    "iplot(chartdict, link_text=\"\")"
   ]
  },
  {
   "cell_type": "code",
   "execution_count": null,
   "metadata": {
    "collapsed": true,
    "slideshow": {
     "slide_type": "-"
    }
   },
   "outputs": [],
   "source": [
    "chartdict = twocolumn_barchart(chartdata, 1482, y_label=\"Count\")\n"
   ]
  },
  {
   "cell_type": "code",
   "execution_count": null,
   "metadata": {
    "collapsed": false,
    "slideshow": {
     "slide_type": "slide"
    }
   },
   "outputs": [],
   "source": [
    "iplot(chartdict, link_text=\"\")"
   ]
  },
  {
   "cell_type": "code",
   "execution_count": null,
   "metadata": {
    "collapsed": false,
    "slideshow": {
     "slide_type": "-"
    }
   },
   "outputs": [],
   "source": [
    "chartdict = multicolumn_barchart(chartdata,\n",
    "                                 1484, \n",
    "                                 15, \n",
    "                                 y_label=\"Count\",\n",
    "                                 othertext = False,\n",
    "                                 title='What phone system(s) does your firm use?<br />(Note: Turrets are here too, so you may have more than one)'\n",
    "                                 )"
   ]
  },
  {
   "cell_type": "code",
   "execution_count": null,
   "metadata": {
    "collapsed": false,
    "slideshow": {
     "slide_type": "slide"
    }
   },
   "outputs": [],
   "source": [
    "iplot(chartdict, link_text=\"\")"
   ]
  },
  {
   "cell_type": "code",
   "execution_count": null,
   "metadata": {
    "collapsed": false,
    "slideshow": {
     "slide_type": "-"
    }
   },
   "outputs": [],
   "source": [
    "chartdict = multicolumn_barchart(chartdata,\n",
    "                                 1499, \n",
    "                                 7, \n",
    "                                 y_label=\"Count\",\n",
    "                                 othertext = True,\n",
    "                                 x_label_size=11,\n",
    "                                 )"
   ]
  },
  {
   "cell_type": "code",
   "execution_count": null,
   "metadata": {
    "collapsed": false,
    "slideshow": {
     "slide_type": "slide"
    }
   },
   "outputs": [],
   "source": [
    "iplot(chartdict, link_text=\"\")"
   ]
  },
  {
   "cell_type": "code",
   "execution_count": null,
   "metadata": {
    "collapsed": true,
    "slideshow": {
     "slide_type": "-"
    }
   },
   "outputs": [],
   "source": [
    "chartdict = onecolumn_barchart(chartdata, \n",
    "                               1506, \n",
    "                               x_label=\"\",\n",
    "                               y_label=\"Count\",\n",
    "                               title=None)\n"
   ]
  },
  {
   "cell_type": "code",
   "execution_count": null,
   "metadata": {
    "collapsed": false,
    "slideshow": {
     "slide_type": "slide"
    }
   },
   "outputs": [],
   "source": [
    "iplot(chartdict, link_text=\"\")"
   ]
  },
  {
   "cell_type": "code",
   "execution_count": null,
   "metadata": {
    "collapsed": true,
    "slideshow": {
     "slide_type": "-"
    }
   },
   "outputs": [],
   "source": [
    "chartdict = onecolumn_barchart(chartdata, \n",
    "                               1507, \n",
    "                               x_label=\"\",\n",
    "                               y_label=\"Count\",\n",
    "                               title=None,\n",
    "                              col_order=['< 3','3-10','+10','Shared function, no dedicated compliance staff','No Answer'],)\n"
   ]
  },
  {
   "cell_type": "code",
   "execution_count": null,
   "metadata": {
    "collapsed": false,
    "slideshow": {
     "slide_type": "slide"
    }
   },
   "outputs": [],
   "source": [
    "iplot(chartdict, link_text=\"\")"
   ]
  },
  {
   "cell_type": "code",
   "execution_count": null,
   "metadata": {
    "collapsed": true,
    "slideshow": {
     "slide_type": "-"
    }
   },
   "outputs": [],
   "source": [
    "chartdict = onecolumn_barchart(chartdata, \n",
    "                               1508, \n",
    "                               x_label=\"\",\n",
    "                               y_label=\"Count\",\n",
    "                               title=None,\n",
    "                               col_order=[\"Yes\",\"No\",\"No Answer\"])\n"
   ]
  },
  {
   "cell_type": "code",
   "execution_count": null,
   "metadata": {
    "collapsed": false,
    "slideshow": {
     "slide_type": "slide"
    }
   },
   "outputs": [],
   "source": [
    "iplot(chartdict, link_text=\"\")"
   ]
  },
  {
   "cell_type": "code",
   "execution_count": null,
   "metadata": {
    "collapsed": true,
    "slideshow": {
     "slide_type": "-"
    }
   },
   "outputs": [],
   "source": [
    "chartdict = twocolumn_barchart(chartdata, 1509, y_label=\"Count\")\n"
   ]
  },
  {
   "cell_type": "code",
   "execution_count": null,
   "metadata": {
    "collapsed": false,
    "slideshow": {
     "slide_type": "slide"
    }
   },
   "outputs": [],
   "source": [
    "iplot(chartdict, link_text=\"\")"
   ]
  },
  {
   "cell_type": "code",
   "execution_count": null,
   "metadata": {
    "collapsed": true,
    "slideshow": {
     "slide_type": "-"
    }
   },
   "outputs": [],
   "source": [
    "chartdict = onecolumn_barchart(chartdata, \n",
    "                               1511, \n",
    "                               x_label=\"\",\n",
    "                               y_label=\"Count\",\n",
    "                               title=None,\n",
    "                               col_order=[\"Yes\",\"No\",\"No Answer\",\"Not applicable\"]                              \n",
    "                              )\n"
   ]
  },
  {
   "cell_type": "code",
   "execution_count": null,
   "metadata": {
    "collapsed": false,
    "slideshow": {
     "slide_type": "slide"
    }
   },
   "outputs": [],
   "source": [
    "iplot(chartdict, link_text=\"\")"
   ]
  },
  {
   "cell_type": "code",
   "execution_count": null,
   "metadata": {
    "collapsed": true,
    "slideshow": {
     "slide_type": "-"
    }
   },
   "outputs": [],
   "source": [
    "chartdict = twocolumn_barchart(chartdata, 1512, y_label=\"Count\")\n"
   ]
  },
  {
   "cell_type": "code",
   "execution_count": null,
   "metadata": {
    "collapsed": false,
    "slideshow": {
     "slide_type": "slide"
    }
   },
   "outputs": [],
   "source": [
    "iplot(chartdict, link_text=\"\")"
   ]
  },
  {
   "cell_type": "code",
   "execution_count": null,
   "metadata": {
    "collapsed": true,
    "slideshow": {
     "slide_type": "-"
    }
   },
   "outputs": [],
   "source": [
    "chartdict = onecolumn_barchart(chartdata, \n",
    "                               1514, \n",
    "                               x_label=\"\",\n",
    "                               y_label=\"Count\",\n",
    "                               title=None,\n",
    "                               col_order=[\"Yes\",\"No\",\"No Answer\",\"Not applicable\"]                                                         \n",
    "                              )\n"
   ]
  },
  {
   "cell_type": "code",
   "execution_count": null,
   "metadata": {
    "collapsed": false,
    "slideshow": {
     "slide_type": "slide"
    }
   },
   "outputs": [],
   "source": [
    "iplot(chartdict, link_text=\"\")"
   ]
  },
  {
   "cell_type": "code",
   "execution_count": null,
   "metadata": {
    "collapsed": true,
    "slideshow": {
     "slide_type": "-"
    }
   },
   "outputs": [],
   "source": [
    "chartdict = twocolumn_barchart(chartdata, \n",
    "                               1515, \n",
    "                               x_label=\"\",\n",
    "                               y_label=\"Count\",\n",
    "                               title=None)\n"
   ]
  },
  {
   "cell_type": "code",
   "execution_count": null,
   "metadata": {
    "collapsed": false,
    "slideshow": {
     "slide_type": "slide"
    }
   },
   "outputs": [],
   "source": [
    "iplot(chartdict, link_text=\"\")"
   ]
  },
  {
   "cell_type": "code",
   "execution_count": null,
   "metadata": {
    "collapsed": true,
    "slideshow": {
     "slide_type": "-"
    }
   },
   "outputs": [],
   "source": [
    "chartdict = twocolumn_barchart(chartdata, \n",
    "                               1517, \n",
    "                               x_label=\"\",\n",
    "                               y_label=\"Count\",\n",
    "                               title=\"If you allow expert consultants, do you allow investment stafff<br />to source experts through LinkedIn or some other platform?\"\n",
    "                              )\n"
   ]
  },
  {
   "cell_type": "code",
   "execution_count": null,
   "metadata": {
    "collapsed": false,
    "slideshow": {
     "slide_type": "slide"
    }
   },
   "outputs": [],
   "source": [
    "iplot(chartdict, link_text=\"\")"
   ]
  },
  {
   "cell_type": "code",
   "execution_count": null,
   "metadata": {
    "collapsed": true,
    "slideshow": {
     "slide_type": "-"
    }
   },
   "outputs": [],
   "source": [
    "chartdict = onecolumn_barchart(chartdata, \n",
    "                               1519, \n",
    "                               x_label=\"\",\n",
    "                               y_label=\"Count\",\n",
    "                               title=None)\n"
   ]
  },
  {
   "cell_type": "code",
   "execution_count": null,
   "metadata": {
    "collapsed": false,
    "slideshow": {
     "slide_type": "slide"
    }
   },
   "outputs": [],
   "source": [
    "iplot(chartdict, link_text=\"\")"
   ]
  },
  {
   "cell_type": "code",
   "execution_count": null,
   "metadata": {
    "collapsed": true,
    "slideshow": {
     "slide_type": "-"
    }
   },
   "outputs": [],
   "source": [
    "chartdict = twocolumn_barchart(chartdata, \n",
    "                               1520, \n",
    "                               x_label=\"\",\n",
    "                               y_label=\"Count\",\n",
    "                               #title=\"\"\n",
    "                              )\n"
   ]
  },
  {
   "cell_type": "code",
   "execution_count": null,
   "metadata": {
    "collapsed": false,
    "slideshow": {
     "slide_type": "slide"
    }
   },
   "outputs": [],
   "source": [
    "iplot(chartdict, link_text=\"\")"
   ]
  },
  {
   "cell_type": "code",
   "execution_count": null,
   "metadata": {
    "collapsed": true,
    "slideshow": {
     "slide_type": "-"
    }
   },
   "outputs": [],
   "source": [
    "chartdict = onecolumn_barchart(chartdata, \n",
    "                               1522, \n",
    "                               x_label=\"\",\n",
    "                               y_label=\"Count\",\n",
    "                               title=None)\n"
   ]
  },
  {
   "cell_type": "code",
   "execution_count": null,
   "metadata": {
    "collapsed": false,
    "slideshow": {
     "slide_type": "slide"
    }
   },
   "outputs": [],
   "source": [
    "iplot(chartdict, link_text=\"\")"
   ]
  },
  {
   "cell_type": "code",
   "execution_count": null,
   "metadata": {
    "collapsed": true,
    "slideshow": {
     "slide_type": "-"
    }
   },
   "outputs": [],
   "source": [
    "chartdict = onecolumn_barchart(chartdata, \n",
    "                               1523, \n",
    "                               x_label=\"\",\n",
    "                               y_label=\"Count\",\n",
    "                               title=\"Does your firm allow the use of personal email on company's computers<br />(within or that connect to the firm's network)?\",\n",
    "                               col_order=['No','Yes','Yes, but monitor all attachments','Yes, but block all attachments','No Answer',]\n",
    "                              )\n"
   ]
  },
  {
   "cell_type": "code",
   "execution_count": null,
   "metadata": {
    "collapsed": false,
    "slideshow": {
     "slide_type": "slide"
    }
   },
   "outputs": [],
   "source": [
    "iplot(chartdict, link_text=\"\")"
   ]
  },
  {
   "cell_type": "code",
   "execution_count": null,
   "metadata": {
    "collapsed": false,
    "slideshow": {
     "slide_type": "-"
    }
   },
   "outputs": [],
   "source": [
    "chartdict = multicolumn_barchart(chartdata,\n",
    "                                 1524, \n",
    "                                 8, \n",
    "                                 y_label=\"Count\",\n",
    "                                 \n",
    "                                 )"
   ]
  },
  {
   "cell_type": "code",
   "execution_count": null,
   "metadata": {
    "collapsed": false,
    "slideshow": {
     "slide_type": "slide"
    }
   },
   "outputs": [],
   "source": [
    "iplot(chartdict, link_text=\"\")"
   ]
  },
  {
   "cell_type": "code",
   "execution_count": null,
   "metadata": {
    "collapsed": false,
    "slideshow": {
     "slide_type": "-"
    }
   },
   "outputs": [],
   "source": [
    "chartdict = multicolumn_barchart(chartdata,\n",
    "                                 1532, \n",
    "                                 8, \n",
    "                                 y_label=\"Count\",\n",
    "#                                 col_order=['Daily','Monthly','Quarterly','Annually','Only if there is cause','Never','Random sampling','No Answer',]\n",
    "                                 )"
   ]
  },
  {
   "cell_type": "code",
   "execution_count": null,
   "metadata": {
    "collapsed": false,
    "slideshow": {
     "slide_type": "slide"
    }
   },
   "outputs": [],
   "source": [
    "iplot(chartdict, link_text=\"\")"
   ]
  },
  {
   "cell_type": "code",
   "execution_count": null,
   "metadata": {
    "collapsed": true,
    "slideshow": {
     "slide_type": "-"
    }
   },
   "outputs": [],
   "source": [
    "chartdict = onecolumn_barchart(chartdata, \n",
    "                               1540, \n",
    "                               x_label=\"\",\n",
    "                               y_label=\"Count\",\n",
    "                               title=None)\n"
   ]
  },
  {
   "cell_type": "code",
   "execution_count": null,
   "metadata": {
    "collapsed": false,
    "slideshow": {
     "slide_type": "slide"
    }
   },
   "outputs": [],
   "source": [
    "iplot(chartdict, link_text=\"\")"
   ]
  },
  {
   "cell_type": "code",
   "execution_count": null,
   "metadata": {
    "collapsed": false,
    "slideshow": {
     "slide_type": "-"
    }
   },
   "outputs": [],
   "source": [
    "chartdict = multicolumn_barchart(chartdata,\n",
    "                                 1541, \n",
    "                                 9, \n",
    "                                 y_label=\"Count\",\n",
    "                                 \n",
    "                                 )"
   ]
  },
  {
   "cell_type": "code",
   "execution_count": null,
   "metadata": {
    "collapsed": false,
    "slideshow": {
     "slide_type": "slide"
    }
   },
   "outputs": [],
   "source": [
    "iplot(chartdict, link_text=\"\")"
   ]
  },
  {
   "cell_type": "code",
   "execution_count": null,
   "metadata": {
    "collapsed": true,
    "slideshow": {
     "slide_type": "-"
    }
   },
   "outputs": [],
   "source": [
    "chartdict = onecolumn_barchart(chartdata, \n",
    "                               1550, \n",
    "                               x_label=\"\",\n",
    "                               y_label=\"Count\",\n",
    "                               title=\"Does your firm use any behavioral or relationship analytics tools<br />for communication surveillance?\")"
   ]
  },
  {
   "cell_type": "code",
   "execution_count": null,
   "metadata": {
    "collapsed": false,
    "slideshow": {
     "slide_type": "slide"
    }
   },
   "outputs": [],
   "source": [
    "iplot(chartdict, link_text=\"\")"
   ]
  },
  {
   "cell_type": "code",
   "execution_count": null,
   "metadata": {
    "collapsed": false,
    "slideshow": {
     "slide_type": "-"
    }
   },
   "outputs": [],
   "source": [
    "chartdict = multicolumn_barchart(chartdata,\n",
    "                                 1551, \n",
    "                                 8, \n",
    "                                 y_label=\"Count\",\n",
    "                                 title='If you use analytic tools for communication surveillance<br />which platform do you use?'\n",
    "                                 )"
   ]
  },
  {
   "cell_type": "code",
   "execution_count": null,
   "metadata": {
    "collapsed": false,
    "slideshow": {
     "slide_type": "slide"
    }
   },
   "outputs": [],
   "source": [
    "iplot(chartdict, link_text=\"\")"
   ]
  },
  {
   "cell_type": "code",
   "execution_count": null,
   "metadata": {
    "collapsed": false,
    "slideshow": {
     "slide_type": "-"
    }
   },
   "outputs": [],
   "source": [
    "chartdata.replace(to_replace=\"EZE\", value=\"Eze Castle\", inplace=True)\n",
    "\n",
    "chartdict = multicolumn_barchart(chartdata,\n",
    "                                 1559, \n",
    "                                 13, \n",
    "                                 y_label=\"Count\",\n",
    "                                 title='What vendor(s) do you use for consolidated regulatory reporting<br />(e.g. Form PF, AIFMD Annex IV, etc.)?'\n",
    "                                 )"
   ]
  },
  {
   "cell_type": "code",
   "execution_count": null,
   "metadata": {
    "collapsed": false,
    "slideshow": {
     "slide_type": "slide"
    }
   },
   "outputs": [],
   "source": [
    "iplot(chartdict, link_text=\"\")"
   ]
  },
  {
   "cell_type": "code",
   "execution_count": null,
   "metadata": {
    "collapsed": false,
    "slideshow": {
     "slide_type": "-"
    }
   },
   "outputs": [],
   "source": [
    "chartdata.replace(to_replace=\"Schwabb\", value=\"Schwab\", inplace=True)\n",
    "chartdict = multicolumn_barchart(chartdata,\n",
    "                                 1572, \n",
    "                                 14, \n",
    "                                 y_label=\"Count\",\n",
    "                                 title='What Compliance Workflow/Personal Account Trade Monitoring<br />platforms does your firm use?'\n",
    "                                 )"
   ]
  },
  {
   "cell_type": "code",
   "execution_count": null,
   "metadata": {
    "collapsed": false,
    "slideshow": {
     "slide_type": "slide"
    }
   },
   "outputs": [],
   "source": [
    "iplot(chartdict, link_text=\"\")"
   ]
  },
  {
   "cell_type": "code",
   "execution_count": null,
   "metadata": {
    "collapsed": false,
    "slideshow": {
     "slide_type": "-"
    }
   },
   "outputs": [],
   "source": [
    "chartdict = multicolumn_barchart(chartdata,\n",
    "                                 1586, \n",
    "                                 14, \n",
    "                                 y_label=\"Count\",\n",
    "                                 )"
   ]
  },
  {
   "cell_type": "code",
   "execution_count": null,
   "metadata": {
    "collapsed": false,
    "slideshow": {
     "slide_type": "slide"
    }
   },
   "outputs": [],
   "source": [
    "iplot(chartdict, link_text=\"\")"
   ]
  },
  {
   "cell_type": "code",
   "execution_count": null,
   "metadata": {
    "collapsed": false,
    "slideshow": {
     "slide_type": "-"
    }
   },
   "outputs": [],
   "source": [
    "chartdict = multicolumn_barchart(chartdata,\n",
    "                                 1600, \n",
    "                                 12, \n",
    "                                 y_label=\"Count\",\n",
    "                                 \n",
    "                                 )\n"
   ]
  },
  {
   "cell_type": "code",
   "execution_count": null,
   "metadata": {
    "collapsed": false,
    "slideshow": {
     "slide_type": "slide"
    }
   },
   "outputs": [],
   "source": [
    "iplot(chartdict, link_text=\"\")"
   ]
  },
  {
   "cell_type": "code",
   "execution_count": null,
   "metadata": {
    "collapsed": false,
    "slideshow": {
     "slide_type": "-"
    }
   },
   "outputs": [],
   "source": [
    "chartdata.replace(to_replace=\"CodeRed\", value=\"Code Red\", inplace=True)\n",
    "chartdata.replace(to_replace=\"Dynamo from Netage Solutions\", value=\"Dynamo\", inplace=True)\n",
    "chartdict = multicolumn_barchart(chartdata,\n",
    "                                 1612, \n",
    "                                 27, \n",
    "                                 y_label=\"Count\",\n",
    "                                 title='What Client Relationship Management/<br />Investor Distribution system does your firm use?'\n",
    "                                 )\n"
   ]
  },
  {
   "cell_type": "code",
   "execution_count": null,
   "metadata": {
    "collapsed": false,
    "slideshow": {
     "slide_type": "slide"
    }
   },
   "outputs": [],
   "source": [
    "\n",
    "iplot(chartdict, link_text=\"\")"
   ]
  },
  {
   "cell_type": "code",
   "execution_count": null,
   "metadata": {
    "collapsed": false,
    "slideshow": {
     "slide_type": "-"
    }
   },
   "outputs": [],
   "source": [
    "chartdict = multicolumn_barchart(chartdata,\n",
    "                                 1639, \n",
    "                                 14, \n",
    "                                 y_label=\"Count\",\n",
    "                                 #title='What Client Relationship Management/Investor Distribution system does your firm use?'\n",
    "                                 )\n"
   ]
  },
  {
   "cell_type": "code",
   "execution_count": null,
   "metadata": {
    "collapsed": false,
    "slideshow": {
     "slide_type": "slide"
    }
   },
   "outputs": [],
   "source": [
    "iplot(chartdict, link_text=\"\")"
   ]
  },
  {
   "cell_type": "code",
   "execution_count": null,
   "metadata": {
    "collapsed": true,
    "slideshow": {
     "slide_type": "-"
    }
   },
   "outputs": [],
   "source": [
    "chartdict = twocolumn_barchart(chartdata, 1653, y_label=\"Count\")\n"
   ]
  },
  {
   "cell_type": "code",
   "execution_count": null,
   "metadata": {
    "collapsed": false,
    "slideshow": {
     "slide_type": "slide"
    }
   },
   "outputs": [],
   "source": [
    "iplot(chartdict, link_text=\"\")"
   ]
  },
  {
   "cell_type": "code",
   "execution_count": null,
   "metadata": {
    "collapsed": true,
    "slideshow": {
     "slide_type": "-"
    }
   },
   "outputs": [],
   "source": [
    "chartdict = onecolumn_barchart(chartdata, 1655, y_label=\"Count\")\n"
   ]
  },
  {
   "cell_type": "code",
   "execution_count": null,
   "metadata": {
    "collapsed": false,
    "slideshow": {
     "slide_type": "slide"
    }
   },
   "outputs": [],
   "source": [
    "iplot(chartdict, link_text=\"\")"
   ]
  },
  {
   "cell_type": "code",
   "execution_count": null,
   "metadata": {
    "collapsed": true,
    "slideshow": {
     "slide_type": "-"
    }
   },
   "outputs": [],
   "source": [
    "chartdict = default_boxplot(chartdata,\n",
    "                                 1656, \n",
    "                                 17, \n",
    "                                 y_label=\"Count\",\n",
    "                                 title='What percent of users use each mobile provider?'\n",
    "                                 )\n"
   ]
  },
  {
   "cell_type": "code",
   "execution_count": null,
   "metadata": {
    "collapsed": false,
    "slideshow": {
     "slide_type": "slide"
    }
   },
   "outputs": [],
   "source": [
    "iplot(chartdict, link_text=\"\")"
   ]
  },
  {
   "cell_type": "code",
   "execution_count": null,
   "metadata": {
    "collapsed": true,
    "slideshow": {
     "slide_type": "-"
    }
   },
   "outputs": [],
   "source": [
    "chartdict = default_boxplot(chartdata,\n",
    "                                 1673, \n",
    "                                 6, \n",
    "                                 y_label=\"Count\",\n",
    "                                 title='What percentage of mobile phone models<br />have been deployed to staff?'\n",
    "                                 )\n"
   ]
  },
  {
   "cell_type": "code",
   "execution_count": null,
   "metadata": {
    "collapsed": false,
    "slideshow": {
     "slide_type": "slide"
    }
   },
   "outputs": [],
   "source": [
    "iplot(chartdict, link_text=\"\")"
   ]
  },
  {
   "cell_type": "code",
   "execution_count": null,
   "metadata": {
    "collapsed": false,
    "slideshow": {
     "slide_type": "-"
    }
   },
   "outputs": [],
   "source": [
    "chartdata.replace(to_replace=\"Meraki\", value=\"Cisco Meraki\", inplace=True)\n",
    "chartdict = multicolumn_barchart(chartdata,\n",
    "                                 1679, \n",
    "                                 10, \n",
    "                                 y_label=\"Count\",\n",
    "                                 #title='What Client Relationship Management/Investor Distribution system does your firm use?'\n",
    "                                 )\n"
   ]
  },
  {
   "cell_type": "code",
   "execution_count": null,
   "metadata": {
    "collapsed": false,
    "slideshow": {
     "slide_type": "slide"
    }
   },
   "outputs": [],
   "source": [
    "iplot(chartdict, link_text=\"\")"
   ]
  },
  {
   "cell_type": "code",
   "execution_count": null,
   "metadata": {
    "collapsed": false,
    "slideshow": {
     "slide_type": "-"
    }
   },
   "outputs": [],
   "source": [
    "chartdict = multicolumn_barchart(chartdata,\n",
    "                                 1689, \n",
    "                                 7, \n",
    "                                 y_label=\"Count\",\n",
    "                                 #title='What Client Relationship Management/Investor Distribution system does your firm use?'\n",
    "                                 )\n"
   ]
  },
  {
   "cell_type": "code",
   "execution_count": null,
   "metadata": {
    "collapsed": false,
    "slideshow": {
     "slide_type": "slide"
    }
   },
   "outputs": [],
   "source": [
    "iplot(chartdict, link_text=\"\")"
   ]
  },
  {
   "cell_type": "markdown",
   "metadata": {
    "slideshow": {
     "slide_type": "slide"
    }
   },
   "source": [
    "# Risk"
   ]
  },
  {
   "cell_type": "code",
   "execution_count": null,
   "metadata": {
    "collapsed": false,
    "slideshow": {
     "slide_type": "-"
    }
   },
   "outputs": [],
   "source": [
    "chartdict = multicolumn_barchart(chartdata,\n",
    "                                 1696, \n",
    "                                 23, \n",
    "                                 y_label=\"Count\",\n",
    "                                 #title='What Client Relationship Management/Investor Distribution system does your firm use?'\n",
    "                                 )"
   ]
  },
  {
   "cell_type": "code",
   "execution_count": null,
   "metadata": {
    "collapsed": false,
    "slideshow": {
     "slide_type": "slide"
    }
   },
   "outputs": [],
   "source": [
    "iplot(chartdict, link_text=\"\")"
   ]
  },
  {
   "cell_type": "code",
   "execution_count": null,
   "metadata": {
    "collapsed": false,
    "slideshow": {
     "slide_type": "-"
    }
   },
   "outputs": [],
   "source": [
    "chartdict = multicolumn_barchart(chartdata,\n",
    "                                 1719, \n",
    "                                 17, \n",
    "                                 y_label=\"Count\",\n",
    "                                 #title='What Client Relationship Management/Investor Distribution system does your firm use?'\n",
    "                                 )"
   ]
  },
  {
   "cell_type": "code",
   "execution_count": null,
   "metadata": {
    "collapsed": false,
    "slideshow": {
     "slide_type": "slide"
    }
   },
   "outputs": [],
   "source": [
    "iplot(chartdict, link_text=\"\")"
   ]
  },
  {
   "cell_type": "markdown",
   "metadata": {
    "slideshow": {
     "slide_type": "slide"
    }
   },
   "source": [
    "# Research and Data Management"
   ]
  },
  {
   "cell_type": "code",
   "execution_count": null,
   "metadata": {
    "collapsed": false,
    "slideshow": {
     "slide_type": "-"
    }
   },
   "outputs": [],
   "source": [
    "chartdict = multicolumn_barchart(chartdata,\n",
    "                                 1736, \n",
    "                                 14, \n",
    "                                 y_label=\"Count\",\n",
    "                                 #title='What Client Relationship Management/Investor Distribution system does your firm use?'\n",
    "                                 )"
   ]
  },
  {
   "cell_type": "code",
   "execution_count": null,
   "metadata": {
    "collapsed": false,
    "slideshow": {
     "slide_type": "slide"
    }
   },
   "outputs": [],
   "source": [
    "iplot(chartdict, link_text=\"\")"
   ]
  },
  {
   "cell_type": "code",
   "execution_count": null,
   "metadata": {
    "collapsed": false,
    "slideshow": {
     "slide_type": "-"
    }
   },
   "outputs": [],
   "source": [
    "chartdict = multicolumn_barchart(chartdata,\n",
    "                                 1750, \n",
    "                                 15, \n",
    "                                 y_label=\"Count\",\n",
    "                                 title='Which market data delivery platforms does your firm use?'\n",
    "                                 )"
   ]
  },
  {
   "cell_type": "code",
   "execution_count": null,
   "metadata": {
    "collapsed": false,
    "slideshow": {
     "slide_type": "slide"
    }
   },
   "outputs": [],
   "source": [
    "iplot(chartdict, link_text=\"\")"
   ]
  },
  {
   "cell_type": "code",
   "execution_count": null,
   "metadata": {
    "collapsed": true,
    "slideshow": {
     "slide_type": "-"
    }
   },
   "outputs": [],
   "source": [
    "chartdict = onecolumn_barchart(chartdata, 1765, y_label=\"Count\", title=\"Considered moving away from Bloomberg?\")\n"
   ]
  },
  {
   "cell_type": "code",
   "execution_count": null,
   "metadata": {
    "collapsed": false,
    "slideshow": {
     "slide_type": "slide"
    }
   },
   "outputs": [],
   "source": [
    "iplot(chartdict, link_text=\"\")"
   ]
  },
  {
   "cell_type": "code",
   "execution_count": null,
   "metadata": {
    "collapsed": true,
    "slideshow": {
     "slide_type": "-"
    }
   },
   "outputs": [],
   "source": [
    "chartdict = onecolumn_barchart(chartdata, 1766, y_label=\"Count\", title=\"Do you have shared Bloomberg terminals?\")\n"
   ]
  },
  {
   "cell_type": "code",
   "execution_count": null,
   "metadata": {
    "collapsed": false,
    "slideshow": {
     "slide_type": "slide"
    }
   },
   "outputs": [],
   "source": [
    "iplot(chartdict, link_text=\"\")"
   ]
  },
  {
   "cell_type": "code",
   "execution_count": null,
   "metadata": {
    "collapsed": false,
    "slideshow": {
     "slide_type": "-"
    }
   },
   "outputs": [],
   "source": [
    "chartdict = multicolumn_barchart(chartdata,\n",
    "                                 1767, \n",
    "                                 10, \n",
    "                                 y_label=\"Count\",\n",
    "                                 #title='What Client Relationship Management/Investor Distribution system does your firm use?'\n",
    "                                 )"
   ]
  },
  {
   "cell_type": "code",
   "execution_count": null,
   "metadata": {
    "collapsed": false,
    "slideshow": {
     "slide_type": "slide"
    }
   },
   "outputs": [],
   "source": [
    "iplot(chartdict, link_text=\"\")"
   ]
  },
  {
   "cell_type": "code",
   "execution_count": null,
   "metadata": {
    "collapsed": false,
    "slideshow": {
     "slide_type": "-"
    }
   },
   "outputs": [],
   "source": [
    "chartdict = multicolumn_barchart(chartdata,\n",
    "                                 1777, \n",
    "                                 13, \n",
    "                                 y_label=\"Count\",\n",
    "                                 #title='What Client Relationship Management/Investor Distribution system does your firm use?'\n",
    "                                 )"
   ]
  },
  {
   "cell_type": "code",
   "execution_count": null,
   "metadata": {
    "collapsed": false,
    "slideshow": {
     "slide_type": "slide"
    }
   },
   "outputs": [],
   "source": [
    "iplot(chartdict, link_text=\"\")"
   ]
  },
  {
   "cell_type": "code",
   "execution_count": null,
   "metadata": {
    "collapsed": true,
    "slideshow": {
     "slide_type": "-"
    }
   },
   "outputs": [],
   "source": [
    "chartdict = onecolumn_barchart(chartdata, 1790, y_label=\"Count\", title=\"Is your Research Management System cloud-based or local?\")"
   ]
  },
  {
   "cell_type": "code",
   "execution_count": null,
   "metadata": {
    "collapsed": false,
    "slideshow": {
     "slide_type": "slide"
    }
   },
   "outputs": [],
   "source": [
    "iplot(chartdict, link_text=\"\")"
   ]
  },
  {
   "cell_type": "code",
   "execution_count": null,
   "metadata": {
    "collapsed": false,
    "slideshow": {
     "slide_type": "-"
    }
   },
   "outputs": [],
   "source": [
    "chartdict = multicolumn_barchart(chartdata,\n",
    "                                 1791, \n",
    "                                 19, \n",
    "                                 y_label=\"Count\",\n",
    "                                 #title='What Client Relationship Management/Investor Distribution system does your firm use?'\n",
    "                                 )"
   ]
  },
  {
   "cell_type": "code",
   "execution_count": null,
   "metadata": {
    "collapsed": false,
    "slideshow": {
     "slide_type": "slide"
    }
   },
   "outputs": [],
   "source": [
    "iplot(chartdict, link_text=\"\")"
   ]
  },
  {
   "cell_type": "code",
   "execution_count": null,
   "metadata": {
    "collapsed": false,
    "slideshow": {
     "slide_type": "-"
    }
   },
   "outputs": [],
   "source": [
    "chartdict = multicolumn_barchart(chartdata,\n",
    "                                 1810, \n",
    "                                 15, \n",
    "                                 y_label=\"Count\",\n",
    "                                 #title='What Client Relationship Management/Investor Distribution system does your firm use?'\n",
    "                                 )"
   ]
  },
  {
   "cell_type": "code",
   "execution_count": null,
   "metadata": {
    "collapsed": false,
    "slideshow": {
     "slide_type": "slide"
    }
   },
   "outputs": [],
   "source": [
    "iplot(chartdict, link_text=\"\")"
   ]
  },
  {
   "cell_type": "code",
   "execution_count": null,
   "metadata": {
    "collapsed": false,
    "slideshow": {
     "slide_type": "-"
    }
   },
   "outputs": [],
   "source": [
    "chartdict = multicolumn_barchart(chartdata,\n",
    "                                 1825, \n",
    "                                 15, \n",
    "                                 y_label=\"Count\",\n",
    "                                 #title='What Client Relationship Management/Investor Distribution system does your firm use?'\n",
    "                                 )"
   ]
  },
  {
   "cell_type": "code",
   "execution_count": null,
   "metadata": {
    "collapsed": false,
    "slideshow": {
     "slide_type": "slide"
    }
   },
   "outputs": [],
   "source": [
    "iplot(chartdict, link_text=\"\")"
   ]
  },
  {
   "cell_type": "markdown",
   "metadata": {
    "slideshow": {
     "slide_type": "slide"
    }
   },
   "source": [
    "# That's all, folks! Many thanks for participating in the 2017 AITEC tech survey!\n",
    "\n",
    "\n",
    "# The AITEC survey team\n",
    "\n",
    "<table>\n",
    "<tr><td>Druce Vertes<br />Python slide wrangler    </td><td> Ken D'Agostino<br /> Buy side wrangler </td></tr>\n",
    "<tr><td>Jeff Gerson <br /> Sell side wrangler   </td><td> Hans Bleuel <br /> Fearless leader </td></tr>\n",
    "<tr><td>Maura Harris <br /> Committee wrangler   </td><td> David MacPhee <br /> SurveyMonkey wrangler</td></tr>\n",
    "<tr><td>Andrew Evangelidis </td><td> Zachary Frayne  </td></tr>\n",
    "<tr><td>Cary Goldstein  </td><td> Jeffrey Zinkerman </td></tr>\n",
    "<tr><td>Sharad Agrawal </td><td> Julio Garcia </td></tr>\n",
    "<tr><td>Charles Chien</td><td> Don Choe </td></tr>\n",
    "<tr><td>Conor Kiernan</td><td> Thanks to anyone I forgot</td></tr>\n",
    "</table>\n",
    "\n",
    "\n"
   ]
  },
  {
   "cell_type": "code",
   "execution_count": null,
   "metadata": {
    "collapsed": false,
    "slideshow": {
     "slide_type": "slide"
    }
   },
   "outputs": [],
   "source": [
    "YouTubeVideo('gBzJGckMYO4')"
   ]
  },
  {
   "cell_type": "code",
   "execution_count": null,
   "metadata": {
    "collapsed": false,
    "slideshow": {
     "slide_type": "slide"
    }
   },
   "outputs": [],
   "source": [
    "YouTubeVideo('T1XgFsitnQw')"
   ]
  },
  {
   "cell_type": "raw",
   "metadata": {
    "collapsed": true
   },
   "source": []
  }
 ],
 "metadata": {
  "anaconda-cloud": {},
  "celltoolbar": "Slideshow",
  "kernelspec": {
   "display_name": "Python 2",
   "language": "python",
   "name": "python2"
  },
  "language_info": {
   "codemirror_mode": {
    "name": "ipython",
    "version": 2
   },
   "file_extension": ".py",
   "mimetype": "text/x-python",
   "name": "python",
   "nbconvert_exporter": "python",
   "pygments_lexer": "ipython2",
   "version": "2.7.13"
  }
 },
 "nbformat": 4,
 "nbformat_minor": 1
}
