{
 "cells": [
  {
   "cell_type": "raw",
   "metadata": {},
   "source": [
    "<style type=\"text/css\">\n",
    ".input_prompt, .input_area, .output_prompt {\n",
    "    display:none !important;\n",
    "}\n",
    "</style>"
   ]
  },
  {
   "cell_type": "markdown",
   "metadata": {},
   "source": [
    "![aitec logo](img/ys1header.png \"AITEC\")\n",
    "# Member survey\n",
    "- [Slideshow](http://www.streeteye.com/static/aitec_survey/AITEC%20Slideshow.slides.html)\n",
    "   * Takes a minute to load - 200 slides is a lot!\n",
    "   * Navigate with spacebar, arrow keys, click on arrows \n",
    "   * Mobile not recommended (swipe left/right actually works, but very slow)   \n",
    "   * Mouseover plots for more info (it's a little glitchy, try shrinking/expanding the browser if it shows data for bars off to the right/left)\n",
    "   * Boxplots show distributions, median, interquartile range, outliers - [more info](https://help.plot.ly/what-is-a-box-plot/)\n",
    "- [PDF](http://www.streeteye.com/static/aitec_survey/AITEC%20Slideshow%20slides.pdf)\n",
    "- [Data file](http://www.streeteye.com/static/aitec_survey/buyside.csv)\n",
    "- [Python code in Jupyter notebook to generate presentation](https://github.com/druce/aitec_survey)\n",
    "\n",
    "&mdash; your AITEC survey team - [surveys@aitec.org](mailto:surveys@aitec.org)"
   ]
  },
  {
   "cell_type": "code",
   "execution_count": null,
   "metadata": {
    "collapsed": true
   },
   "outputs": [],
   "source": []
  }
 ],
 "metadata": {
  "kernelspec": {
   "display_name": "Python 2",
   "language": "python",
   "name": "python2"
  },
  "language_info": {
   "codemirror_mode": {
    "name": "ipython",
    "version": 2
   },
   "file_extension": ".py",
   "mimetype": "text/x-python",
   "name": "python",
   "nbconvert_exporter": "python",
   "pygments_lexer": "ipython2",
   "version": "2.7.13"
  }
 },
 "nbformat": 4,
 "nbformat_minor": 2
}
