{
 "cells": [
  {
   "cell_type": "raw",
   "metadata": {},
   "source": [
    "<style type=\"text/css\">\n",
    ".input_prompt, .input_area, .output_prompt {\n",
    "    display:none !important;\n",
    "}\n",
    "</style>"
   ]
  },
  {
   "cell_type": "markdown",
   "metadata": {},
   "source": [
    "# Member survey\n",
    "- Slideshow http://www.streeteye.com/static/aitec_survey/AITEC%20Slideshow.slides.html\n",
    "   * (Takes a minute to load - 200 slides is a lot!) \n",
    "   * Mobile not recommended\n",
    "   * Navigate with spacebar, arrow keys, click on arrows \n",
    "   * Mouseover plots for more info\n",
    "   * Boxplots show distributions, median, interquartile range, outliers - https://help.plot.ly/what-is-a-box-plot/\n",
    "\n",
    "- PDF http://www.streeteye.com/static/aitec_survey/AITEC%20Slideshow%20slides.pdf\n",
    "- data file http://www.streeteye.com/static/aitec_survey/buyside.csv\n",
    "- Jupyter notebook with python code to generate presentation https://github.com/druce/aitec_survey"
   ]
  }
 ],
 "metadata": {
  "kernelspec": {
   "display_name": "Python 2",
   "language": "python",
   "name": "python2"
  },
  "language_info": {
   "codemirror_mode": {
    "name": "ipython",
    "version": 2
   },
   "file_extension": ".py",
   "mimetype": "text/x-python",
   "name": "python",
   "nbconvert_exporter": "python",
   "pygments_lexer": "ipython2",
   "version": "2.7.13"
  }
 },
 "nbformat": 4,
 "nbformat_minor": 2
}
