{
 "cells": [
  {
   "cell_type": "markdown",
   "metadata": {},
   "source": [
    "# Member survey\n",
    "- Slideshow (takes a minute to load - 200 slides is a lot!) http://www.streeteye.com/static/aitec_survey/AITEC%20Slideshow.slides.html\n",
    "- PDF http://www.streeteye.com/static/aitec_survey/AITEC%20Slideshow%20slides.pdf\n",
    "- data file http://www.streeteye.com/static/aitec_survey/buyside.csv\n",
    "- Jupyter notebook with python code to generate presentation https://github.com/druce/aitec_survey"
   ]
  },
  {
   "cell_type": "code",
   "execution_count": null,
   "metadata": {
    "collapsed": true
   },
   "outputs": [],
   "source": []
  }
 ],
 "metadata": {
  "kernelspec": {
   "display_name": "Python 2",
   "language": "python",
   "name": "python2"
  },
  "language_info": {
   "codemirror_mode": {
    "name": "ipython",
    "version": 2
   },
   "file_extension": ".py",
   "mimetype": "text/x-python",
   "name": "python",
   "nbconvert_exporter": "python",
   "pygments_lexer": "ipython2",
   "version": "2.7.13"
  }
 },
 "nbformat": 4,
 "nbformat_minor": 2
}
